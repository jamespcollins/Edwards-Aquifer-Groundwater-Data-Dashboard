{
 "cells": [
  {
   "cell_type": "markdown",
   "metadata": {},
   "source": [
    "#### Do workspace set up and lib imports"
   ]
  },
  {
   "cell_type": "code",
   "execution_count": 148,
   "metadata": {
    "extensions": {
     "jupyter_dashboards": {
      "version": 1,
      "views": {
       "grid_default": {
        "col": 7,
        "height": 4,
        "hidden": true,
        "row": 0,
        "width": 4
       },
       "report_default": {}
      }
     }
    }
   },
   "outputs": [
    {
     "ename": "ImportError",
     "evalue": "No module named request",
     "output_type": "error",
     "traceback": [
      "\u001b[0;31m---------------------------------------------------------------------------\u001b[0m",
      "\u001b[0;31mImportError\u001b[0m                               Traceback (most recent call last)",
      "\u001b[0;32m<ipython-input-148-69713face00b>\u001b[0m in \u001b[0;36m<module>\u001b[0;34m()\u001b[0m\n\u001b[1;32m      2\u001b[0m \u001b[0;32mimport\u001b[0m \u001b[0mpandas\u001b[0m \u001b[0;32mas\u001b[0m \u001b[0mpd\u001b[0m\u001b[0;34m\u001b[0m\u001b[0m\n\u001b[1;32m      3\u001b[0m \u001b[0;32mimport\u001b[0m \u001b[0mnumpy\u001b[0m \u001b[0;32mas\u001b[0m \u001b[0mnp\u001b[0m\u001b[0;34m\u001b[0m\u001b[0m\n\u001b[0;32m----> 4\u001b[0;31m \u001b[0;32mfrom\u001b[0m \u001b[0mbeakerx\u001b[0m \u001b[0;32mimport\u001b[0m \u001b[0;34m*\u001b[0m\u001b[0;34m\u001b[0m\u001b[0m\n\u001b[0m\u001b[1;32m      5\u001b[0m \u001b[0;32mimport\u001b[0m \u001b[0mbokeh\u001b[0m\u001b[0;34m\u001b[0m\u001b[0m\n\u001b[1;32m      6\u001b[0m \u001b[0;32mfrom\u001b[0m \u001b[0mbokeh\u001b[0m\u001b[0;34m.\u001b[0m\u001b[0mplotting\u001b[0m \u001b[0;32mimport\u001b[0m \u001b[0mfigure\u001b[0m\u001b[0;34m,\u001b[0m \u001b[0moutput_notebook\u001b[0m\u001b[0;34m,\u001b[0m \u001b[0mshow\u001b[0m\u001b[0;34m\u001b[0m\u001b[0m\n",
      "\u001b[0;32m/Users/James/anaconda/lib/python2.7/site-packages/beakerx/__init__.py\u001b[0m in \u001b[0;36m<module>\u001b[0;34m()\u001b[0m\n\u001b[1;32m     13\u001b[0m \u001b[0;31m# limitations under the License.\u001b[0m\u001b[0;34m\u001b[0m\u001b[0;34m\u001b[0m\u001b[0m\n\u001b[1;32m     14\u001b[0m \u001b[0;34m\u001b[0m\u001b[0m\n\u001b[0;32m---> 15\u001b[0;31m \u001b[0;32mfrom\u001b[0m \u001b[0;34m.\u001b[0m\u001b[0mruntime\u001b[0m \u001b[0;32mimport\u001b[0m \u001b[0mBeakerX\u001b[0m\u001b[0;34m\u001b[0m\u001b[0m\n\u001b[0m\u001b[1;32m     16\u001b[0m \u001b[0;32mfrom\u001b[0m \u001b[0;34m.\u001b[0m\u001b[0mplot\u001b[0m \u001b[0;32mimport\u001b[0m \u001b[0;34m*\u001b[0m\u001b[0;34m\u001b[0m\u001b[0m\n\u001b[1;32m     17\u001b[0m \u001b[0;32mfrom\u001b[0m \u001b[0;34m.\u001b[0m\u001b[0measyform\u001b[0m \u001b[0;32mimport\u001b[0m \u001b[0;34m*\u001b[0m\u001b[0;34m\u001b[0m\u001b[0m\n",
      "\u001b[0;32m/Users/James/anaconda/lib/python2.7/site-packages/beakerx/runtime.py\u001b[0m in \u001b[0;36m<module>\u001b[0;34m()\u001b[0m\n\u001b[1;32m     16\u001b[0m \u001b[0;34m\u001b[0m\u001b[0m\n\u001b[1;32m     17\u001b[0m \u001b[0;32mimport\u001b[0m \u001b[0mos\u001b[0m\u001b[0;34m,\u001b[0m \u001b[0mjson\u001b[0m\u001b[0;34m,\u001b[0m \u001b[0mpandas\u001b[0m\u001b[0;34m,\u001b[0m \u001b[0mnumpy\u001b[0m\u001b[0;34m\u001b[0m\u001b[0m\n\u001b[0;32m---> 18\u001b[0;31m \u001b[0;32mimport\u001b[0m \u001b[0murllib\u001b[0m\u001b[0;34m.\u001b[0m\u001b[0mrequest\u001b[0m\u001b[0;34m,\u001b[0m \u001b[0murllib\u001b[0m\u001b[0;34m.\u001b[0m\u001b[0mparse\u001b[0m\u001b[0;34m,\u001b[0m \u001b[0murllib\u001b[0m\u001b[0;34m.\u001b[0m\u001b[0merror\u001b[0m\u001b[0;34m,\u001b[0m \u001b[0murllib\u001b[0m\u001b[0;34m.\u001b[0m\u001b[0mrequest\u001b[0m\u001b[0;34m,\u001b[0m \u001b[0murllib\u001b[0m\u001b[0;34m.\u001b[0m\u001b[0merror\u001b[0m\u001b[0;34m,\u001b[0m \u001b[0murllib\u001b[0m\u001b[0;34m.\u001b[0m\u001b[0mparse\u001b[0m\u001b[0;34m,\u001b[0m \u001b[0mIPython\u001b[0m\u001b[0;34m,\u001b[0m \u001b[0mdatetime\u001b[0m\u001b[0;34m,\u001b[0m \u001b[0mcalendar\u001b[0m\u001b[0;34m,\u001b[0m \u001b[0mmath\u001b[0m\u001b[0;34m,\u001b[0m \u001b[0mtraceback\u001b[0m\u001b[0;34m,\u001b[0m \u001b[0mtime\u001b[0m\u001b[0;34m\u001b[0m\u001b[0m\n\u001b[0m\u001b[1;32m     19\u001b[0m \u001b[0;32mfrom\u001b[0m \u001b[0mtraitlets\u001b[0m \u001b[0;32mimport\u001b[0m \u001b[0mUnicode\u001b[0m\u001b[0;34m\u001b[0m\u001b[0m\n\u001b[1;32m     20\u001b[0m \u001b[0;34m\u001b[0m\u001b[0m\n",
      "\u001b[0;31mImportError\u001b[0m: No module named request"
     ]
    }
   ],
   "source": [
    "# setup and resource import\n",
    "import pandas as pd\n",
    "import numpy as np\n",
    "import bokeh\n",
    "from bokeh.plotting import figure, output_notebook, show\n",
    "from bokeh.io import push_notebook, show, output_notebook\n",
    "from bokeh.models import HoverTool, Label\n",
    "from bokeh.layouts import gridplot\n",
    "output_notebook(bokeh.resources.INLINE,hide_banner=True)\n",
    "from bokeh.palettes import Dark2_5 as palette # select a palette\n",
    "#import geopandas as gpd\n",
    "\n",
    "# create a dictionary to hold our variable data\n",
    "allDataFrames = {}"
   ]
  },
  {
   "cell_type": "markdown",
   "metadata": {
    "extensions": {
     "jupyter_dashboards": {
      "version": 1,
      "views": {
       "grid_default": {
        "col": 0,
        "height": 15,
        "hidden": true,
        "row": 55,
        "width": 12
       },
       "report_default": {}
      }
     }
    }
   },
   "source": [
    "# Utility Functions\n",
    "\n",
    "### getDataset\n",
    "* __Parameters__\n",
    "    * __p__ path to tabulated data (e.g. CSV)\n",
    "    * __hr__ header row (actual row number, not index value)\n",
    "    * __tcol__ column number with time interval (actual col number, not index value)\n",
    "    * __d__ cell delimiter\n",
    "    * __preview__ print a preview of the imported data (default FALSE)\n",
    "    * __collate__ append dataframe to dict allDataFrames with filepath as key (default TRUE)\n",
    "* __Returns__ pandas dataframe with imported data\n",
    "* __Description__ adds local functionality to pd.read_csv()\n",
    "\n",
    "### standardize_EAA_flow\n",
    "* __Parameters__\n",
    "    * __val__ numerical value representing flow in thousands acre-feet per year\n",
    "* __Returns__ Value in cubic meters per second\n",
    "* __Description__ EAA data is typically represented as thousands of acre-feet per year\n",
    "\n",
    "### moving_average\n",
    "* __Parameters__\n",
    "    * __a__ Array of values\n",
    "    * __[n=5]__ Time period intervals to average over\n",
    "* __Returns__\n",
    "* __Description__ \n",
    "* __Source__ https://stackoverflow.com/questions/14313510/how-to-calculate-moving-average-using-numpy"
   ]
  },
  {
   "cell_type": "code",
   "execution_count": 73,
   "metadata": {
    "collapsed": true,
    "extensions": {
     "jupyter_dashboards": {
      "version": 1,
      "views": {
       "grid_default": {
        "hidden": true
       },
       "report_default": {}
      }
     }
    }
   },
   "outputs": [],
   "source": [
    "def getDataset(p,hr,tcol,d,key,preview=False,collate=True):\n",
    "    data = pd.read_csv(p, sep=d,header=(hr-1), index_col=(tcol-1))\n",
    "    if preview:\n",
    "        print data.head()\n",
    "    if collate:\n",
    "        #allDataFrames[\"{}\".format(p)]=data ## use filepath as key\n",
    "        allDataFrames[key]=data ## use 'key' param as key\n",
    "    return data\n",
    "\n",
    "def _standardize_EAA_flowVal(a):\n",
    "#    if isinstance(a, list):\n",
    "#        for val in a:\n",
    "#            val = _acre_feet_year_TO_cubic_meter_second(val)*1000\n",
    "#        return None\n",
    "#    else:\n",
    "    return _acre_feet_year_TO_cubic_meter_second(a)*1000\n",
    "\n",
    "def _acre_feet_year_TO_cubic_meter_second(ac_ft_yr_val):\n",
    "    return (ac_ft_yr_val*1233.48)/(365*24*3600)\n",
    "\n",
    "def _moving_average(a, n=5) :\n",
    "#    ret = np.cumsum(a, dtype=float) ## dtype param not supported in current config\n",
    "    ret = np.cumsum(a)\n",
    "    ret[n:] = ret[n:] - ret[:-n]\n",
    "    return ret[n - 1:] / n\n",
    "\n",
    "utils = {\n",
    "    _standardize_EAA_flowVal:None,\n",
    "    _moving_average:None\n",
    "}"
   ]
  },
  {
   "cell_type": "code",
   "execution_count": 145,
   "metadata": {},
   "outputs": [],
   "source": [
    "def plotData(d,keyArray,t,standardize,moving_avg=0,pw=900,ph=400,\n",
    "             hover=False,cite=False,hide=False,linked_x_range=None) :\n",
    "    toolKit=[\n",
    "        \"box_zoom\",\n",
    "        \"reset\",\n",
    "        \"lasso_select\",\n",
    "        \"pan\"\n",
    "    ]\n",
    "    \n",
    "    if hover:\n",
    "        hover = HoverTool(\n",
    "            tooltips=[\n",
    "                (\"Year\", \"@Year\"),\n",
    "                (\"Value\", \"$y\"),\n",
    "            ],\n",
    "\n",
    "            mode='vline'\n",
    "        )\n",
    "        toolKit.append(hover)\n",
    "    \n",
    "    if linked_x_range!=None:\n",
    "        xr = linked_x_range.x_range\n",
    "    else: xr=None\n",
    "    \n",
    "    p = figure(\n",
    "        plot_width=pw, \n",
    "        plot_height=ph,\n",
    "        title=t,\n",
    "        y_axis_label=\"m^s * s^-1\",\n",
    "        x_axis_label=d[keyArray[0]].index.name,\n",
    "        logo=None,\n",
    "        toolbar_location='above',\n",
    "        tools = toolKit,\n",
    "        x_range = xr\n",
    "    )\n",
    "    \n",
    "    colorIndex=0\n",
    "    for i in range(0,len(d)): #iterate datasets\n",
    "        df = d[keyArray[i]] # get current dataframe (indexed)\n",
    "        for col in list(df):\n",
    "            yVals = df[col]\n",
    "            if moving_avg > 0:\n",
    "                yVals = df[col].rolling(window=moving_avg).mean()\n",
    "            if standardize != True:\n",
    "                yVals.apply(_standardize_EAA_flowVal)\n",
    "            p.line(\n",
    "                df.index.values,\n",
    "                yVals,\n",
    "                legend=col,\n",
    "                color=palette[colorIndex%(len(palette))],\n",
    "                muted_color=\"grey\", \n",
    "                muted_alpha=0.2,\n",
    "                line_width=3,\n",
    "                line_join=\"round\"\n",
    "            )\n",
    "            p.circle(\n",
    "                df.index.values,\n",
    "                yVals,\n",
    "                legend=col,\n",
    "                color=palette[colorIndex%(len(palette))],\n",
    "                muted_color=\"grey\", \n",
    "                muted_alpha=0.2,\n",
    "                size=6,\n",
    "              #  line_join=\"round\"\n",
    "            )\n",
    "            colorIndex+=1\n",
    "\n",
    "    p.legend.location = \"top_left\"\n",
    "    p.legend.click_policy=\"mute\"\n",
    "    \n",
    "    if cite: \n",
    "        citation = Label(x=55, y=45, x_units='screen', y_units='screen', text_font_size = '6pt',\n",
    "            text='Source: '+cite, render_mode='css',\n",
    "            border_line_color='black', border_line_alpha=1.0,\n",
    "            background_fill_color='white', background_fill_alpha=0.5)\n",
    "\n",
    "        p.add_layout(citation)\n",
    "    \n",
    "    if not hide:show(p)\n",
    "    return p"
   ]
  },
  {
   "cell_type": "code",
   "execution_count": 146,
   "metadata": {
    "collapsed": true,
    "extensions": {
     "jupyter_dashboards": {
      "version": 1,
      "views": {
       "grid_default": {
        "hidden": true
       },
       "report_default": {}
      }
     }
    }
   },
   "outputs": [],
   "source": [
    "# import some test data\n",
    "wellDischarge = getDataset('gw_viz_data/well_discharge.csv',1,1,',','wells')\n",
    "springFlow = getDataset('gw_viz_data/springflow.csv',1,1,',','springs')\n",
    "\n",
    "keys = [\n",
    "    'wells',\n",
    "    'springs'\n",
    "]\n",
    "\n",
    "figTitle = 'Trends in the Edwards Aquifer'\n",
    "plotMovingAvg = 5\n",
    "applyStandardization = \"EAA_flowVal\""
   ]
  },
  {
   "cell_type": "code",
   "execution_count": 147,
   "metadata": {},
   "outputs": [
    {
     "data": {
      "text/html": [
       "\n",
       "\n",
       "    <div class=\"bk-root\">\n",
       "        <div class=\"bk-plotdiv\" id=\"7611c7ce-2c2d-43f3-9d7f-3931da381a25\"></div>\n",
       "    </div>\n",
       "<script type=\"text/javascript\">\n",
       "  \n",
       "  (function(global) {\n",
       "    function now() {\n",
       "      return new Date();\n",
       "    }\n",
       "  \n",
       "    var force = false;\n",
       "  \n",
       "    if (typeof (window._bokeh_onload_callbacks) === \"undefined\" || force === true) {\n",
       "      window._bokeh_onload_callbacks = [];\n",
       "      window._bokeh_is_loading = undefined;\n",
       "    }\n",
       "  \n",
       "  \n",
       "    \n",
       "    if (typeof (window._bokeh_timeout) === \"undefined\" || force === true) {\n",
       "      window._bokeh_timeout = Date.now() + 0;\n",
       "      window._bokeh_failed_load = false;\n",
       "    }\n",
       "  \n",
       "    var NB_LOAD_WARNING = {'data': {'text/html':\n",
       "       \"<div style='background-color: #fdd'>\\n\"+\n",
       "       \"<p>\\n\"+\n",
       "       \"BokehJS does not appear to have successfully loaded. If loading BokehJS from CDN, this \\n\"+\n",
       "       \"may be due to a slow or bad network connection. Possible fixes:\\n\"+\n",
       "       \"</p>\\n\"+\n",
       "       \"<ul>\\n\"+\n",
       "       \"<li>re-rerun `output_notebook()` to attempt to load from CDN again, or</li>\\n\"+\n",
       "       \"<li>use INLINE resources instead, as so:</li>\\n\"+\n",
       "       \"</ul>\\n\"+\n",
       "       \"<code>\\n\"+\n",
       "       \"from bokeh.resources import INLINE\\n\"+\n",
       "       \"output_notebook(resources=INLINE)\\n\"+\n",
       "       \"</code>\\n\"+\n",
       "       \"</div>\"}};\n",
       "  \n",
       "    function display_loaded() {\n",
       "      if (window.Bokeh !== undefined) {\n",
       "        var el = document.getElementById(\"7611c7ce-2c2d-43f3-9d7f-3931da381a25\");\n",
       "        el.textContent = \"BokehJS \" + Bokeh.version + \" successfully loaded.\";\n",
       "      } else if (Date.now() < window._bokeh_timeout) {\n",
       "        setTimeout(display_loaded, 100)\n",
       "      }\n",
       "    }\n",
       "  \n",
       "    function run_callbacks() {\n",
       "      window._bokeh_onload_callbacks.forEach(function(callback) { callback() });\n",
       "      delete window._bokeh_onload_callbacks\n",
       "      console.info(\"Bokeh: all callbacks have finished\");\n",
       "    }\n",
       "  \n",
       "    function load_libs(js_urls, callback) {\n",
       "      window._bokeh_onload_callbacks.push(callback);\n",
       "      if (window._bokeh_is_loading > 0) {\n",
       "        console.log(\"Bokeh: BokehJS is being loaded, scheduling callback at\", now());\n",
       "        return null;\n",
       "      }\n",
       "      if (js_urls == null || js_urls.length === 0) {\n",
       "        run_callbacks();\n",
       "        return null;\n",
       "      }\n",
       "      console.log(\"Bokeh: BokehJS not loaded, scheduling load and callback at\", now());\n",
       "      window._bokeh_is_loading = js_urls.length;\n",
       "      for (var i = 0; i < js_urls.length; i++) {\n",
       "        var url = js_urls[i];\n",
       "        var s = document.createElement('script');\n",
       "        s.src = url;\n",
       "        s.async = false;\n",
       "        s.onreadystatechange = s.onload = function() {\n",
       "          window._bokeh_is_loading--;\n",
       "          if (window._bokeh_is_loading === 0) {\n",
       "            console.log(\"Bokeh: all BokehJS libraries loaded\");\n",
       "            run_callbacks()\n",
       "          }\n",
       "        };\n",
       "        s.onerror = function() {\n",
       "          console.warn(\"failed to load library \" + url);\n",
       "        };\n",
       "        console.log(\"Bokeh: injecting script tag for BokehJS library: \", url);\n",
       "        document.getElementsByTagName(\"head\")[0].appendChild(s);\n",
       "      }\n",
       "    };var element = document.getElementById(\"7611c7ce-2c2d-43f3-9d7f-3931da381a25\");\n",
       "    if (element == null) {\n",
       "      console.log(\"Bokeh: ERROR: autoload.js configured with elementid '7611c7ce-2c2d-43f3-9d7f-3931da381a25' but no matching script tag was found. \")\n",
       "      return false;\n",
       "    }\n",
       "  \n",
       "    var js_urls = [];\n",
       "  \n",
       "    var inline_js = [\n",
       "      function(Bokeh) {\n",
       "        (function() {\n",
       "          var fn = function() {\n",
       "            var docs_json = {\"2ec52c7f-0593-424d-8136-0ede9dda364c\":{\"roots\":{\"references\":[{\"attributes\":{\"children\":[{\"id\":\"0dfd66b9-da0e-4a42-8eeb-22ccea2a2c08\",\"type\":\"Row\"},{\"id\":\"8bedf9f8-6c4d-4df0-9e29-6e6f336807c9\",\"type\":\"Row\"}]},\"id\":\"f935b669-9aa9-4e98-994e-2e926e380898\",\"type\":\"Column\"},{\"attributes\":{\"data_source\":{\"id\":\"90f1b0bd-e4f0-46e3-9329-19cc8160d43a\",\"type\":\"ColumnDataSource\"},\"glyph\":{\"id\":\"2d4770da-0fb4-45e9-9d71-c7b277c8d0e1\",\"type\":\"Line\"},\"hover_glyph\":null,\"muted_glyph\":{\"id\":\"43517144-75a7-4111-8413-173f81d9dc79\",\"type\":\"Line\"},\"nonselection_glyph\":{\"id\":\"9b04d93d-e641-400f-8c0c-147a9223932b\",\"type\":\"Line\"},\"selection_glyph\":null},\"id\":\"95520842-25e2-43e4-85c4-b65382bb0a6c\",\"type\":\"GlyphRenderer\"},{\"attributes\":{},\"id\":\"7650319b-cc69-446c-96c7-9aa15d0ddce5\",\"type\":\"BasicTicker\"},{\"attributes\":{\"callback\":null,\"column_names\":[\"y\",\"x\"],\"data\":{\"x\":[1955,1956,1957,1958,1959,1960,1961,1962,1963,1964,1965,1966,1967,1968,1969,1970,1971,1972,1973,1974,1975,1976,1977,1978,1979,1980,1981,1982,1983,1984,1985,1986,1987,1988,1989,1990,1991,1992,1993,1994,1995,1996,1997,1998,1999,2000,2001,2002,2003,2004,2005,2006,2007,2008,2009,2010,2011,2012,2013,2014],\"y\":{\"__ndarray__\":\"AAAAAAAA+H8AAAAAAAD4fwAAAAAAAPh/AAAAAAAA+H/NzMzMzPxtQAAAAAAAwHJAmpmZmZmRd0BH4XoUrtd4QFyPwvUo3HZAUrgeheu5dEC4HoXrUWhzQLgehetRqHFAuB6F61FYcEBcj8L1KHRyQKRwPQrXK3RA7FG4HoUbdUA0MzMzM5N0QAvXo3A9knZAAQAAAAAQeEAghetRuLZ5QJLC9Shcf3tANjMzMzNjfkDOzMzMzHiAQH4UrkfhCn9AVbgeheuJf0A2MzMzM+N8QLJH4XoUrntATOF6FK6XeECAFK5H4ap3QKpwPQrXW3NAtEfhehRuc0C+HoXrUTBzQN6jcD0K/3VA6HoUrkfZdkCqcD0K12t3QDBcj8L1QHZAtUfhehTWdUD7KFyPwuV4QNPMzMzMpHtAvh6F61G4fUDK9Shcjzp/QBLXo3A9cn1A/ihcj8I1eEDVzMzMzKR2QE/hehSud3dA9FG4HoUrd0A7MzMzMyN7QG5mZmZm9n1AtkfhehTuf0BWuB6F6wGBQOZ6FK5H8YJAQgrXo3CVgUDG9Shcj6aBQO9RuB6FX4BAlsL1KFyPfEB4PQrXo5h6QIIUrkfhAnpAwB6F61EIdkDK9Shcj7pzQBLXo3A9knJA\",\"dtype\":\"float64\",\"shape\":[60]}}},\"id\":\"ab9ffd1a-f3b5-4de4-8bd5-c98644c1f90d\",\"type\":\"ColumnDataSource\"},{\"attributes\":{\"active_drag\":\"auto\",\"active_scroll\":\"auto\",\"active_tap\":\"auto\",\"logo\":null,\"tools\":[{\"id\":\"11f0537f-a3c0-4dd9-a61b-3d3ebb3f434c\",\"type\":\"HoverTool\"},{\"id\":\"c4c4de2f-e717-454a-9663-c377b178c97c\",\"type\":\"BoxZoomTool\"},{\"id\":\"c3f6b633-0297-4e39-924a-0d60736fd59c\",\"type\":\"ResetTool\"},{\"id\":\"3386b89e-e7f9-47b4-bbb7-e0711f29c196\",\"type\":\"LassoSelectTool\"},{\"id\":\"9b8c2b98-74db-4159-9479-150b143bef13\",\"type\":\"PanTool\"}]},\"id\":\"e2349cd7-acf3-4577-9710-60f6aa81fac2\",\"type\":\"Toolbar\"},{\"attributes\":{\"plot\":null,\"text\":\"Springs\"},\"id\":\"d1e531b1-de42-44c4-96ad-2125a5122f6c\",\"type\":\"Title\"},{\"attributes\":{\"callback\":null,\"overlay\":{\"id\":\"5b76136a-5e6a-4dff-bf87-938a2354ef28\",\"type\":\"PolyAnnotation\"},\"plot\":{\"id\":\"50231ae6-0c01-4eea-a591-49b95a879f09\",\"subtype\":\"Figure\",\"type\":\"Plot\"}},\"id\":\"3386b89e-e7f9-47b4-bbb7-e0711f29c196\",\"type\":\"LassoSelectTool\"},{\"attributes\":{\"callback\":null,\"column_names\":[\"y\",\"x\"],\"data\":{\"x\":[1955,1956,1957,1958,1959,1960,1961,1962,1963,1964,1965,1966,1967,1968,1969,1970,1971,1972,1973,1974,1975,1976,1977,1978,1979,1980,1981,1982,1983,1984,1985,1986,1987,1988,1989,1990,1991,1992,1993,1994,1995,1996,1997,1998,1999,2000,2001,2002,2003,2004,2005,2006,2007,2008,2009,2010,2011,2012,2013,2014],\"y\":{\"__ndarray__\":\"AAAAAAAA+H8AAAAAAAD4fwAAAAAAAPh/AAAAAAAA+H/rUbgehWtTQEfhehSu51FAzczMzMxMTEBwPQrXo7BMQML1KFyPgk9AwvUoXI9iUEAK16NwPQpRQLcehetR2FFArkfhehQuVEAAAAAAAGBTQOJ6FK5HgVRAXY/C9SicVkDrUbgehStbQKVwPQrXo1tAK1yPwvXIXEDtUbgehQtfQF2PwvUoXF5AzszMzMxMXEBTuB6F6xFcQAAAAAAAIGBAUrgeheuRX0DC9Shcj9JhQJmZmZmZaWFAHoXrUbiOYUCOwvUoXE9gQOtRuB6F62FAzczMzMyMYkBdj8L1KJxiQFK4HoXrYWBAAQAAAABQYkAAAAAAAHBiQB6F61G4rmFACtejcD1KYUBSuB6F6/FgQDIzMzMzs1tAPArXo3AdV0D+/////z9TQKNwPQrX41dARuF6FK5nWkAoXI/C9YhdQD0K16Nw/V1AZWZmZmaGXkAnXI/C9WhZQIPrUbgeZVpARuF6FK7HV0AdhetRuN5UQFC4HoXr0VNAMjMzMzNTV0C2HoXrUZhUQP7/////P1ZAy8zMzMzsWEDqUbgehUtYQPUoXI/CFVdAPQrXo3B9WUDqUbgehatXQD0K16Nw/VVA\",\"dtype\":\"float64\",\"shape\":[60]}}},\"id\":\"a2d9542a-8a76-47f5-97b3-a0e7741c463d\",\"type\":\"ColumnDataSource\"},{\"attributes\":{\"callback\":null},\"id\":\"812f5405-5bbb-49b2-9145-10e93cb5827e\",\"type\":\"DataRange1d\"},{\"attributes\":{\"plot\":{\"id\":\"50231ae6-0c01-4eea-a591-49b95a879f09\",\"subtype\":\"Figure\",\"type\":\"Plot\"}},\"id\":\"c3f6b633-0297-4e39-924a-0d60736fd59c\",\"type\":\"ResetTool\"},{\"attributes\":{\"fill_alpha\":{\"value\":0.2},\"fill_color\":{\"value\":\"grey\"},\"line_alpha\":{\"value\":0.2},\"line_color\":{\"value\":\"grey\"},\"size\":{\"units\":\"screen\",\"value\":6},\"x\":{\"field\":\"x\"},\"y\":{\"field\":\"y\"}},\"id\":\"a6e3262c-5700-40c0-9d65-57e07b266112\",\"type\":\"Circle\"},{\"attributes\":{\"fill_alpha\":{\"value\":0.2},\"fill_color\":{\"value\":\"grey\"},\"line_alpha\":{\"value\":0.2},\"line_color\":{\"value\":\"grey\"},\"size\":{\"units\":\"screen\",\"value\":6},\"x\":{\"field\":\"x\"},\"y\":{\"field\":\"y\"}},\"id\":\"112069d3-2956-4d7c-a80c-05c3af2d18ac\",\"type\":\"Circle\"},{\"attributes\":{\"line_alpha\":{\"value\":0.1},\"line_color\":{\"value\":\"#1f77b4\"},\"line_join\":\"round\",\"line_width\":{\"value\":3},\"x\":{\"field\":\"x\"},\"y\":{\"field\":\"y\"}},\"id\":\"98876174-c507-4408-ac47-e63d5de03326\",\"type\":\"Line\"},{\"attributes\":{\"fill_color\":{\"value\":\"#1b9e77\"},\"line_color\":{\"value\":\"#1b9e77\"},\"size\":{\"units\":\"screen\",\"value\":6},\"x\":{\"field\":\"x\"},\"y\":{\"field\":\"y\"}},\"id\":\"041dfe40-ea61-4972-8f45-f30711f38366\",\"type\":\"Circle\"},{\"attributes\":{\"axis_label\":\"m^s * s^-1\",\"formatter\":{\"id\":\"79dd3a5d-503a-4e3d-bd8d-f335d6b77256\",\"type\":\"BasicTickFormatter\"},\"plot\":{\"id\":\"50231ae6-0c01-4eea-a591-49b95a879f09\",\"subtype\":\"Figure\",\"type\":\"Plot\"},\"ticker\":{\"id\":\"7650319b-cc69-446c-96c7-9aa15d0ddce5\",\"type\":\"BasicTicker\"}},\"id\":\"b5953306-8916-42d4-8cc9-398efdb0fee7\",\"type\":\"LinearAxis\"},{\"attributes\":{\"plot\":{\"id\":\"50231ae6-0c01-4eea-a591-49b95a879f09\",\"subtype\":\"Figure\",\"type\":\"Plot\"},\"ticker\":{\"id\":\"1d5a2668-7931-4099-81c0-3e87b737e4be\",\"type\":\"BasicTicker\"}},\"id\":\"4d98884c-b62b-4aac-a17e-07db3219f81a\",\"type\":\"Grid\"},{\"attributes\":{\"label\":{\"value\":\"Total Pumpage\"},\"renderers\":[{\"id\":\"86710c87-91b2-4680-9bb7-25451ddf1ea7\",\"type\":\"GlyphRenderer\"},{\"id\":\"9e9fde2f-33ee-4ff4-ab57-2f7f6a4e2f46\",\"type\":\"GlyphRenderer\"}]},\"id\":\"faf2e83f-f2fb-426d-96d1-94f00c7c9b78\",\"type\":\"LegendItem\"},{\"attributes\":{\"callback\":null,\"column_names\":[\"y\",\"x\"],\"data\":{\"x\":[1955,1956,1957,1958,1959,1960,1961,1962,1963,1964,1965,1966,1967,1968,1969,1970,1971,1972,1973,1974,1975,1976,1977,1978,1979,1980,1981,1982,1983,1984,1985,1986,1987,1988,1989,1990,1991,1992,1993,1994,1995,1996,1997,1998,1999,2000,2001,2002,2003,2004,2005,2006,2007,2008,2009,2010,2011,2012,2013,2014],\"y\":{\"__ndarray__\":\"AAAAAAAA+H8AAAAAAAD4fwAAAAAAAPh/AAAAAAAA+H+amZmZmblvQJqZmZmZ6W5ApXA9CtezbEC6HoXrUXhtQEjhehSu525AkML1KFyPb0C4HoXrUSBwQLgehetReHBAehSuR+FicUDC9ShcjxJxQAAAAAAAqHFAw/UoXI+SckA+CtejcHV0QIbrUbge1XRAKVyPwvWQdUAVrkfhekR2QJDC9ShcP3ZAuR6F61GIdUBnZmZmZqZ1QHsUrkfhKndAFa5H4XqEd0DXo3A9Co95QNijcD0KB3pA2KNwPQrvekDNzMzMzMR6QNijcD0Kf3xA7VG4HoXjfEDF9Shcj2p9QEAK16NwTXxAVbgehevRfUDG9Shcj/p9QHU9CtejkH1AskfhehSmfUAtXI/C9TB9QL0ehetRiHtAk8L1KFwPekBL4XoUru94QLsehetRqHlAksL1KFxHekA1MzMzM9t6QM7MzMzMFHtA+Chcj8JFe0DF9Shcj7J5QLsehetRoHlAXo/C9Sh8eECmcD0K1+t2QErhehSul3ZApnA9Ctezd0DYo3A9Cg93QOxRuB6F43dAPgrXo3DdeEDD9Shcj6p4QK5H4XoUTnhA9ihcj8IdeUDOzMzMzDR4QOJ6FK5HaXdA\",\"dtype\":\"float64\",\"shape\":[60]}}},\"id\":\"d8db65c8-eb30-4608-a0db-0110fca9756c\",\"type\":\"ColumnDataSource\"},{\"attributes\":{\"axis_label\":\"Year\",\"formatter\":{\"id\":\"9cc1846f-b4ec-4291-8d93-76e55d407cde\",\"type\":\"BasicTickFormatter\"},\"plot\":{\"id\":\"50231ae6-0c01-4eea-a591-49b95a879f09\",\"subtype\":\"Figure\",\"type\":\"Plot\"},\"ticker\":{\"id\":\"1d5a2668-7931-4099-81c0-3e87b737e4be\",\"type\":\"BasicTicker\"}},\"id\":\"5bef7525-faf7-40a6-b8a8-312ca2d7e702\",\"type\":\"LinearAxis\"},{\"attributes\":{\"fill_alpha\":{\"value\":0.5},\"fill_color\":{\"value\":\"lightgrey\"},\"level\":\"overlay\",\"line_alpha\":{\"value\":1.0},\"line_color\":{\"value\":\"black\"},\"line_dash\":[4,4],\"line_width\":{\"value\":2},\"plot\":null,\"xs_units\":\"screen\",\"ys_units\":\"screen\"},\"id\":\"5b76136a-5e6a-4dff-bf87-938a2354ef28\",\"type\":\"PolyAnnotation\"},{\"attributes\":{\"children\":[{\"id\":\"99ad3586-5d3a-470f-98c9-7b83eef3a86f\",\"subtype\":\"Figure\",\"type\":\"Plot\"}]},\"id\":\"0dfd66b9-da0e-4a42-8eeb-22ccea2a2c08\",\"type\":\"Row\"},{\"attributes\":{\"data_source\":{\"id\":\"1d919e0f-71f6-47fb-8f1a-614534f13be1\",\"type\":\"ColumnDataSource\"},\"glyph\":{\"id\":\"964b4aae-14ad-4ad6-8d57-8af99822bd50\",\"type\":\"Circle\"},\"hover_glyph\":null,\"muted_glyph\":{\"id\":\"a6e3262c-5700-40c0-9d65-57e07b266112\",\"type\":\"Circle\"},\"nonselection_glyph\":{\"id\":\"18031246-0ffb-43ea-b86f-bca94db1e528\",\"type\":\"Circle\"},\"selection_glyph\":null},\"id\":\"dae69361-84b2-4553-99f3-48565eaf440c\",\"type\":\"GlyphRenderer\"},{\"attributes\":{\"line_alpha\":{\"value\":0.1},\"line_color\":{\"value\":\"#1f77b4\"},\"line_join\":\"round\",\"line_width\":{\"value\":3},\"x\":{\"field\":\"x\"},\"y\":{\"field\":\"y\"}},\"id\":\"f8100eaa-0a3d-4a6e-a43f-2268480538b7\",\"type\":\"Line\"},{\"attributes\":{\"fill_alpha\":{\"value\":0.1},\"fill_color\":{\"value\":\"#1f77b4\"},\"line_alpha\":{\"value\":0.1},\"line_color\":{\"value\":\"#1f77b4\"},\"size\":{\"units\":\"screen\",\"value\":6},\"x\":{\"field\":\"x\"},\"y\":{\"field\":\"y\"}},\"id\":\"e7017add-bf05-4efa-b2f0-820d6d07c610\",\"type\":\"Circle\"},{\"attributes\":{\"line_alpha\":{\"value\":0.1},\"line_color\":{\"value\":\"#1f77b4\"},\"line_join\":\"round\",\"line_width\":{\"value\":3},\"x\":{\"field\":\"x\"},\"y\":{\"field\":\"y\"}},\"id\":\"46003a05-a440-4dd5-949a-8b4e1b728977\",\"type\":\"Line\"},{\"attributes\":{\"label\":{\"value\":\"Domestic/Stock\"},\"renderers\":[{\"id\":\"95520842-25e2-43e4-85c4-b65382bb0a6c\",\"type\":\"GlyphRenderer\"},{\"id\":\"dae69361-84b2-4553-99f3-48565eaf440c\",\"type\":\"GlyphRenderer\"}]},\"id\":\"4b7168bf-e935-48e3-8380-fef23fcf9d31\",\"type\":\"LegendItem\"},{\"attributes\":{\"fill_alpha\":{\"value\":0.1},\"fill_color\":{\"value\":\"#1f77b4\"},\"line_alpha\":{\"value\":0.1},\"line_color\":{\"value\":\"#1f77b4\"},\"size\":{\"units\":\"screen\",\"value\":6},\"x\":{\"field\":\"x\"},\"y\":{\"field\":\"y\"}},\"id\":\"adde571d-79a7-4e24-aed0-25274e0882a9\",\"type\":\"Circle\"},{\"attributes\":{\"bottom_units\":\"screen\",\"fill_alpha\":{\"value\":0.5},\"fill_color\":{\"value\":\"lightgrey\"},\"left_units\":\"screen\",\"level\":\"overlay\",\"line_alpha\":{\"value\":1.0},\"line_color\":{\"value\":\"black\"},\"line_dash\":[4,4],\"line_width\":{\"value\":2},\"plot\":null,\"render_mode\":\"css\",\"right_units\":\"screen\",\"top_units\":\"screen\"},\"id\":\"52e8da0f-4d86-4bfb-9459-c075c3ef3728\",\"type\":\"BoxAnnotation\"},{\"attributes\":{\"label\":{\"value\":\"Industrial/Commercial\"},\"renderers\":[{\"id\":\"7b5042b3-3979-483a-af35-84a96c294958\",\"type\":\"GlyphRenderer\"},{\"id\":\"ae3f08f8-b5ce-40ce-a9cf-092c5973aafb\",\"type\":\"GlyphRenderer\"}]},\"id\":\"fc162bb2-4875-4d24-aeb1-51844df24dac\",\"type\":\"LegendItem\"},{\"attributes\":{\"line_color\":{\"value\":\"#66a61e\"},\"line_join\":\"round\",\"line_width\":{\"value\":3},\"x\":{\"field\":\"x\"},\"y\":{\"field\":\"y\"}},\"id\":\"d83b92db-fd92-4688-8632-361b16725be0\",\"type\":\"Line\"},{\"attributes\":{\"callback\":null},\"id\":\"6d1661ef-6a03-469e-8374-775df10d507b\",\"type\":\"DataRange1d\"},{\"attributes\":{\"line_alpha\":{\"value\":0.2},\"line_color\":{\"value\":\"grey\"},\"line_join\":\"round\",\"line_width\":{\"value\":3},\"x\":{\"field\":\"x\"},\"y\":{\"field\":\"y\"}},\"id\":\"7766d312-c578-42d5-b3f4-68369eb17aaf\",\"type\":\"Line\"},{\"attributes\":{\"fill_alpha\":{\"value\":0.1},\"fill_color\":{\"value\":\"#1f77b4\"},\"line_alpha\":{\"value\":0.1},\"line_color\":{\"value\":\"#1f77b4\"},\"size\":{\"units\":\"screen\",\"value\":6},\"x\":{\"field\":\"x\"},\"y\":{\"field\":\"y\"}},\"id\":\"18031246-0ffb-43ea-b86f-bca94db1e528\",\"type\":\"Circle\"},{\"attributes\":{\"callback\":null,\"column_names\":[\"y\",\"x\"],\"data\":{\"x\":[1955,1956,1957,1958,1959,1960,1961,1962,1963,1964,1965,1966,1967,1968,1969,1970,1971,1972,1973,1974,1975,1976,1977,1978,1979,1980,1981,1982,1983,1984,1985,1986,1987,1988,1989,1990,1991,1992,1993,1994,1995,1996,1997,1998,1999,2000,2001,2002,2003,2004,2005,2006,2007,2008,2009,2010,2011,2012,2013,2014],\"y\":{\"__ndarray__\":\"AAAAAAAA+H8AAAAAAAD4fwAAAAAAAPh/AAAAAAAA+H8AAAAAAGBeQEjhehSuZ15A1qNwPQq3XUC4HoXrURhfQAAAAAAAgGBAuR6F61EIYUCamZmZmXlhQLoehetR6GFA2KNwPQqXYkBI4XoUrndiQDMzMzMzA2NAexSuR+G6Y0DYo3A9ChdlQKVwPQrXk2VAhutRuB5VZkD2KFyPwqVmQPYoXI/CBWdA61G4HoWrZkAK16NwPQpnQEfhehSu92dAMjMzMzPTaEB6FK5H4apqQChcj8L16GtArkfhehR+bUCuR+F6FF5uQJqZmZmZKXBAmpmZmZlBcEAAAAAAALBwQJDC9Shcl3BA9ihcj8INcUCQwvUoXAdxQDQzMzMz63BAcj0K16OYcEDD9Shcj0pwQAvXo3A9um9A9ihcj8LFbkBmZmZmZsZuQOtRuB6FS29AhetRuB61b0ApXI/C9QhwQIXrUbgeXXBA4XoUrkdxcEAAAAAAAEBwQMP1KFyP4m9A2KNwPQonb0ClcD0K19NtQF2PwvUorG1AcD0K16MAbkDgehSuRzFuQAjXo3A9Gm9Ath6F61HIb0DWo3A9CudvQAAAAAAACHBArkfhehROcEBTuB6F68FvQMP1KFyPEm9A\",\"dtype\":\"float64\",\"shape\":[60]}}},\"id\":\"ad19ac18-1cf4-418c-8aed-30e6340090ad\",\"type\":\"ColumnDataSource\"},{\"attributes\":{},\"id\":\"79dd3a5d-503a-4e3d-bd8d-f335d6b77256\",\"type\":\"BasicTickFormatter\"},{\"attributes\":{\"data_source\":{\"id\":\"b034ab08-c1d4-4eee-87e4-9aacdcf19305\",\"type\":\"ColumnDataSource\"},\"glyph\":{\"id\":\"ee0df09b-ec1c-4d89-8f86-6ad286f0f415\",\"type\":\"Line\"},\"hover_glyph\":null,\"muted_glyph\":{\"id\":\"a89b3242-5929-4820-acc4-b708496b7dcb\",\"type\":\"Line\"},\"nonselection_glyph\":{\"id\":\"46003a05-a440-4dd5-949a-8b4e1b728977\",\"type\":\"Line\"},\"selection_glyph\":null},\"id\":\"08014423-6186-4b54-9740-80d659d58677\",\"type\":\"GlyphRenderer\"},{\"attributes\":{\"axis_label\":\"Year\",\"formatter\":{\"id\":\"1010238e-cd3b-48f3-9748-2065d5483cfd\",\"type\":\"BasicTickFormatter\"},\"plot\":{\"id\":\"99ad3586-5d3a-470f-98c9-7b83eef3a86f\",\"subtype\":\"Figure\",\"type\":\"Plot\"},\"ticker\":{\"id\":\"8ebe8611-bb3b-4b8a-b4cd-df201592800e\",\"type\":\"BasicTicker\"}},\"id\":\"909361b6-f63f-4134-aa1a-d91a85ea46a1\",\"type\":\"LinearAxis\"},{\"attributes\":{\"line_alpha\":{\"value\":0.2},\"line_color\":{\"value\":\"grey\"},\"line_join\":\"round\",\"line_width\":{\"value\":3},\"x\":{\"field\":\"x\"},\"y\":{\"field\":\"y\"}},\"id\":\"a28c5a67-78d7-470c-9bb9-9083db58da21\",\"type\":\"Line\"},{\"attributes\":{\"data_source\":{\"id\":\"850fbd38-90c4-40aa-b669-97804ec935db\",\"type\":\"ColumnDataSource\"},\"glyph\":{\"id\":\"275e7136-042a-4a55-a67c-2e7a6352fec1\",\"type\":\"Line\"},\"hover_glyph\":null,\"muted_glyph\":{\"id\":\"9418e1ce-107f-4560-9814-963347afbc5a\",\"type\":\"Line\"},\"nonselection_glyph\":{\"id\":\"3497dd3b-4686-45f5-8086-22c1a143c857\",\"type\":\"Line\"},\"selection_glyph\":null},\"id\":\"7b5042b3-3979-483a-af35-84a96c294958\",\"type\":\"GlyphRenderer\"},{\"attributes\":{\"data_source\":{\"id\":\"d8db65c8-eb30-4608-a0db-0110fca9756c\",\"type\":\"ColumnDataSource\"},\"glyph\":{\"id\":\"d83b92db-fd92-4688-8632-361b16725be0\",\"type\":\"Line\"},\"hover_glyph\":null,\"muted_glyph\":{\"id\":\"6ecbdfba-aa47-43f4-ba88-53c461774c5e\",\"type\":\"Line\"},\"nonselection_glyph\":{\"id\":\"6c05b5ce-f7a7-4cfe-abaf-90285e760558\",\"type\":\"Line\"},\"selection_glyph\":null},\"id\":\"86710c87-91b2-4680-9bb7-25451ddf1ea7\",\"type\":\"GlyphRenderer\"},{\"attributes\":{\"sizing_mode\":\"scale_width\",\"toolbar_location\":\"above\",\"tools\":[{\"id\":\"55c20f93-aec4-4420-a005-cfc5c3353644\",\"type\":\"BoxZoomTool\"},{\"id\":\"08770d24-40de-4515-9bab-a019fdcb0289\",\"type\":\"ResetTool\"},{\"id\":\"0bf476d0-1ef3-4b48-8bef-f01782b17240\",\"type\":\"LassoSelectTool\"},{\"id\":\"3112221f-fad1-407f-8ad3-b6c33142734a\",\"type\":\"PanTool\"},{\"id\":\"11f0537f-a3c0-4dd9-a61b-3d3ebb3f434c\",\"type\":\"HoverTool\"},{\"id\":\"c4c4de2f-e717-454a-9663-c377b178c97c\",\"type\":\"BoxZoomTool\"},{\"id\":\"c3f6b633-0297-4e39-924a-0d60736fd59c\",\"type\":\"ResetTool\"},{\"id\":\"3386b89e-e7f9-47b4-bbb7-e0711f29c196\",\"type\":\"LassoSelectTool\"},{\"id\":\"9b8c2b98-74db-4159-9479-150b143bef13\",\"type\":\"PanTool\"}]},\"id\":\"ee238b45-2f92-46c3-8ded-1b0de2198e38\",\"type\":\"ToolbarBox\"},{\"attributes\":{\"line_alpha\":{\"value\":0.2},\"line_color\":{\"value\":\"grey\"},\"line_join\":\"round\",\"line_width\":{\"value\":3},\"x\":{\"field\":\"x\"},\"y\":{\"field\":\"y\"}},\"id\":\"9418e1ce-107f-4560-9814-963347afbc5a\",\"type\":\"Line\"},{\"attributes\":{},\"id\":\"3802bdc7-bb8c-47bf-85a9-d3f003147ede\",\"type\":\"BasicTickFormatter\"},{\"attributes\":{},\"id\":\"9cc1846f-b4ec-4291-8d93-76e55d407cde\",\"type\":\"BasicTickFormatter\"},{\"attributes\":{\"plot\":{\"id\":\"99ad3586-5d3a-470f-98c9-7b83eef3a86f\",\"subtype\":\"Figure\",\"type\":\"Plot\"}},\"id\":\"3112221f-fad1-407f-8ad3-b6c33142734a\",\"type\":\"PanTool\"},{\"attributes\":{},\"id\":\"1d5a2668-7931-4099-81c0-3e87b737e4be\",\"type\":\"BasicTicker\"},{\"attributes\":{\"line_alpha\":{\"value\":0.1},\"line_color\":{\"value\":\"#1f77b4\"},\"line_join\":\"round\",\"line_width\":{\"value\":3},\"x\":{\"field\":\"x\"},\"y\":{\"field\":\"y\"}},\"id\":\"9b04d93d-e641-400f-8c0c-147a9223932b\",\"type\":\"Line\"},{\"attributes\":{\"callback\":null,\"column_names\":[\"y\",\"x\"],\"data\":{\"x\":[1955,1956,1957,1958,1959,1960,1961,1962,1963,1964,1965,1966,1967,1968,1969,1970,1971,1972,1973,1974,1975,1976,1977,1978,1979,1980,1981,1982,1983,1984,1985,1986,1987,1988,1989,1990,1991,1992,1993,1994,1995,1996,1997,1998,1999,2000,2001,2002,2003,2004,2005,2006,2007,2008,2009,2010,2011,2012,2013,2014],\"y\":{\"__ndarray__\":\"AAAAAAAA+H8AAAAAAAD4fwAAAAAAAPh/AAAAAAAA+H89CtejcL0+QArXo3A9ij5ArUfhehSuPkB6FK5H4Xo+QFuPwvUoXD1AUrgehetRPEBmZmZmZuY7QKVwPQrXozpAZmZmZmbmOUBxPQrXo3A5QIXrUbgeBTpAexSuR+F6OkAK16NwPYo7QK5H4XoUrjxACtejcD0KPkBmZmZmZuY+QML1KFyPwj9AehSuR+F6QED1KFyPwjVBQML1KFyPAkJAehSuR+G6QkAyMzMzM7NDQBSuR+F6VERAuB6F61F4REBSuB6F61FEQB6F61G43kNA9Shcj8J1Q0BRuB6F65FDQLcehetR+ENARuF6FK5HREB6FK5H4XpEQJiZmZmZWURAmJmZmZkZREB6FK5H4TpDQEbhehSuB0RAmJmZmZmZQ0C2HoXrUfhAQP3/////fzxA/v//////N0AwMzMzM7MwQC4zMzMzMylA5lG4HoXrKUBYj8L1KFwqQN16FK5H4SpA+///////KkAjXI/C9SgrQEu4HoXrUStAcxSuR+F6K0CIwvUoXI8rQHMUrkfheitAXmZmZmZmK0BKuB6F61ErQDUK16NwPStAKzMzMzMzK0BA4XoUrkcrQGBmZmZmZitA\",\"dtype\":\"float64\",\"shape\":[60]}}},\"id\":\"1d919e0f-71f6-47fb-8f1a-614534f13be1\",\"type\":\"ColumnDataSource\"},{\"attributes\":{\"below\":[{\"id\":\"5bef7525-faf7-40a6-b8a8-312ca2d7e702\",\"type\":\"LinearAxis\"}],\"left\":[{\"id\":\"b5953306-8916-42d4-8cc9-398efdb0fee7\",\"type\":\"LinearAxis\"}],\"plot_height\":400,\"plot_width\":900,\"renderers\":[{\"id\":\"5bef7525-faf7-40a6-b8a8-312ca2d7e702\",\"type\":\"LinearAxis\"},{\"id\":\"4d98884c-b62b-4aac-a17e-07db3219f81a\",\"type\":\"Grid\"},{\"id\":\"b5953306-8916-42d4-8cc9-398efdb0fee7\",\"type\":\"LinearAxis\"},{\"id\":\"bdcf8288-a76d-46ef-aee9-6cb30ab51198\",\"type\":\"Grid\"},{\"id\":\"52e8da0f-4d86-4bfb-9459-c075c3ef3728\",\"type\":\"BoxAnnotation\"},{\"id\":\"5b76136a-5e6a-4dff-bf87-938a2354ef28\",\"type\":\"PolyAnnotation\"},{\"id\":\"f8d21890-9146-4f5e-8933-c4035ad3afa4\",\"type\":\"Legend\"},{\"id\":\"08014423-6186-4b54-9740-80d659d58677\",\"type\":\"GlyphRenderer\"},{\"id\":\"fe405d3b-d1cc-4e9e-b8dc-96c34a3d8aad\",\"type\":\"GlyphRenderer\"}],\"title\":{\"id\":\"d1e531b1-de42-44c4-96ad-2125a5122f6c\",\"type\":\"Title\"},\"tool_events\":{\"id\":\"72c7118f-e3d4-4f6d-ad3f-00ace54d0dde\",\"type\":\"ToolEvents\"},\"toolbar\":{\"id\":\"e2349cd7-acf3-4577-9710-60f6aa81fac2\",\"type\":\"Toolbar\"},\"toolbar_location\":null,\"x_range\":{\"id\":\"6d1661ef-6a03-469e-8374-775df10d507b\",\"type\":\"DataRange1d\"},\"y_range\":{\"id\":\"4dccecea-46c6-4830-b9d9-8f4b3083d88b\",\"type\":\"DataRange1d\"}},\"id\":\"50231ae6-0c01-4eea-a591-49b95a879f09\",\"subtype\":\"Figure\",\"type\":\"Plot\"},{\"attributes\":{\"fill_alpha\":{\"value\":0.2},\"fill_color\":{\"value\":\"grey\"},\"line_alpha\":{\"value\":0.2},\"line_color\":{\"value\":\"grey\"},\"size\":{\"units\":\"screen\",\"value\":6},\"x\":{\"field\":\"x\"},\"y\":{\"field\":\"y\"}},\"id\":\"9b59cb30-0b74-4c72-be91-04b68ffb7e51\",\"type\":\"Circle\"},{\"attributes\":{\"callback\":null,\"column_names\":[\"y\",\"x\"],\"data\":{\"x\":[1955,1956,1957,1958,1959,1960,1961,1962,1963,1964,1965,1966,1967,1968,1969,1970,1971,1972,1973,1974,1975,1976,1977,1978,1979,1980,1981,1982,1983,1984,1985,1986,1987,1988,1989,1990,1991,1992,1993,1994,1995,1996,1997,1998,1999,2000,2001,2002,2003,2004,2005,2006,2007,2008,2009,2010,2011,2012,2013,2014],\"y\":{\"__ndarray__\":\"AAAAAAAA+H8AAAAAAAD4fwAAAAAAAPh/AAAAAAAA+H/rUbgehWtTQEfhehSu51FAzczMzMxMTEBwPQrXo7BMQML1KFyPgk9AwvUoXI9iUEAK16NwPQpRQLcehetR2FFArkfhehQuVEAAAAAAAGBTQOJ6FK5HgVRAXY/C9SicVkDrUbgehStbQKVwPQrXo1tAK1yPwvXIXEDtUbgehQtfQF2PwvUoXF5AzszMzMxMXEBTuB6F6xFcQAAAAAAAIGBAUrgeheuRX0DC9Shcj9JhQJmZmZmZaWFAHoXrUbiOYUCOwvUoXE9gQOtRuB6F62FAzczMzMyMYkBdj8L1KJxiQFK4HoXrYWBAAQAAAABQYkAAAAAAAHBiQB6F61G4rmFACtejcD1KYUBSuB6F6/FgQDIzMzMzs1tAPArXo3AdV0D+/////z9TQKNwPQrX41dARuF6FK5nWkAoXI/C9YhdQD0K16Nw/V1AZWZmZmaGXkAnXI/C9WhZQIPrUbgeZVpARuF6FK7HV0AdhetRuN5UQFC4HoXr0VNAMjMzMzNTV0C2HoXrUZhUQP7/////P1ZAy8zMzMzsWEDqUbgehUtYQPUoXI/CFVdAPQrXo3B9WUDqUbgehatXQD0K16Nw/VVA\",\"dtype\":\"float64\",\"shape\":[60]}}},\"id\":\"17c427ae-6354-4c99-8739-c6d6c9b66133\",\"type\":\"ColumnDataSource\"},{\"attributes\":{\"children\":[{\"id\":\"ee238b45-2f92-46c3-8ded-1b0de2198e38\",\"type\":\"ToolbarBox\"},{\"id\":\"f935b669-9aa9-4e98-994e-2e926e380898\",\"type\":\"Column\"}]},\"id\":\"b4f207af-d575-4a6e-905b-e0b02b41b437\",\"type\":\"Column\"},{\"attributes\":{\"plot\":{\"id\":\"99ad3586-5d3a-470f-98c9-7b83eef3a86f\",\"subtype\":\"Figure\",\"type\":\"Plot\"},\"ticker\":{\"id\":\"8ebe8611-bb3b-4b8a-b4cd-df201592800e\",\"type\":\"BasicTicker\"}},\"id\":\"76ad5bfd-47be-4baf-9b62-d690a9b19fda\",\"type\":\"Grid\"},{\"attributes\":{\"axis_label\":\"m^s * s^-1\",\"formatter\":{\"id\":\"3802bdc7-bb8c-47bf-85a9-d3f003147ede\",\"type\":\"BasicTickFormatter\"},\"plot\":{\"id\":\"99ad3586-5d3a-470f-98c9-7b83eef3a86f\",\"subtype\":\"Figure\",\"type\":\"Plot\"},\"ticker\":{\"id\":\"80d477b0-7beb-4038-8225-d8b6a391596b\",\"type\":\"BasicTicker\"}},\"id\":\"6477cf15-32c1-44ce-85eb-a54b611e98e9\",\"type\":\"LinearAxis\"},{\"attributes\":{},\"id\":\"8ebe8611-bb3b-4b8a-b4cd-df201592800e\",\"type\":\"BasicTicker\"},{\"attributes\":{\"line_color\":{\"value\":\"#7570b3\"},\"line_join\":\"round\",\"line_width\":{\"value\":3},\"x\":{\"field\":\"x\"},\"y\":{\"field\":\"y\"}},\"id\":\"2d4770da-0fb4-45e9-9d71-c7b277c8d0e1\",\"type\":\"Line\"},{\"attributes\":{\"line_alpha\":{\"value\":0.1},\"line_color\":{\"value\":\"#1f77b4\"},\"line_join\":\"round\",\"line_width\":{\"value\":3},\"x\":{\"field\":\"x\"},\"y\":{\"field\":\"y\"}},\"id\":\"6c05b5ce-f7a7-4cfe-abaf-90285e760558\",\"type\":\"Line\"},{\"attributes\":{\"callback\":null,\"mode\":\"vline\",\"plot\":{\"id\":\"50231ae6-0c01-4eea-a591-49b95a879f09\",\"subtype\":\"Figure\",\"type\":\"Plot\"},\"tooltips\":[[\"Year\",\"@Year\"],[\"Value\",\"$y\"]]},\"id\":\"11f0537f-a3c0-4dd9-a61b-3d3ebb3f434c\",\"type\":\"HoverTool\"},{\"attributes\":{\"fill_color\":{\"value\":\"#7570b3\"},\"line_color\":{\"value\":\"#7570b3\"},\"size\":{\"units\":\"screen\",\"value\":6},\"x\":{\"field\":\"x\"},\"y\":{\"field\":\"y\"}},\"id\":\"964b4aae-14ad-4ad6-8d57-8af99822bd50\",\"type\":\"Circle\"},{\"attributes\":{\"fill_alpha\":{\"value\":0.1},\"fill_color\":{\"value\":\"#1f77b4\"},\"line_alpha\":{\"value\":0.1},\"line_color\":{\"value\":\"#1f77b4\"},\"size\":{\"units\":\"screen\",\"value\":6},\"x\":{\"field\":\"x\"},\"y\":{\"field\":\"y\"}},\"id\":\"bb17fdd1-098d-4f3a-bbea-bce8253faa0c\",\"type\":\"Circle\"},{\"attributes\":{\"overlay\":{\"id\":\"137d9bd3-b911-4388-80da-2a98f405a595\",\"type\":\"BoxAnnotation\"},\"plot\":{\"id\":\"99ad3586-5d3a-470f-98c9-7b83eef3a86f\",\"subtype\":\"Figure\",\"type\":\"Plot\"}},\"id\":\"55c20f93-aec4-4420-a005-cfc5c3353644\",\"type\":\"BoxZoomTool\"},{\"attributes\":{},\"id\":\"80d477b0-7beb-4038-8225-d8b6a391596b\",\"type\":\"BasicTicker\"},{\"attributes\":{\"callback\":null,\"column_names\":[\"y\",\"x\"],\"data\":{\"x\":[1955,1956,1957,1958,1959,1960,1961,1962,1963,1964,1965,1966,1967,1968,1969,1970,1971,1972,1973,1974,1975,1976,1977,1978,1979,1980,1981,1982,1983,1984,1985,1986,1987,1988,1989,1990,1991,1992,1993,1994,1995,1996,1997,1998,1999,2000,2001,2002,2003,2004,2005,2006,2007,2008,2009,2010,2011,2012,2013,2014],\"y\":{\"__ndarray__\":\"AAAAAAAA+H8AAAAAAAD4fwAAAAAAAPh/AAAAAAAA+H89CtejcL0+QArXo3A9ij5ArUfhehSuPkB6FK5H4Xo+QFuPwvUoXD1AUrgehetRPEBmZmZmZuY7QKVwPQrXozpAZmZmZmbmOUBxPQrXo3A5QIXrUbgeBTpAexSuR+F6OkAK16NwPYo7QK5H4XoUrjxACtejcD0KPkBmZmZmZuY+QML1KFyPwj9AehSuR+F6QED1KFyPwjVBQML1KFyPAkJAehSuR+G6QkAyMzMzM7NDQBSuR+F6VERAuB6F61F4REBSuB6F61FEQB6F61G43kNA9Shcj8J1Q0BRuB6F65FDQLcehetR+ENARuF6FK5HREB6FK5H4XpEQJiZmZmZWURAmJmZmZkZREB6FK5H4TpDQEbhehSuB0RAmJmZmZmZQ0C2HoXrUfhAQP3/////fzxA/v//////N0AwMzMzM7MwQC4zMzMzMylA5lG4HoXrKUBYj8L1KFwqQN16FK5H4SpA+///////KkAjXI/C9SgrQEu4HoXrUStAcxSuR+F6K0CIwvUoXI8rQHMUrkfheitAXmZmZmZmK0BKuB6F61ErQDUK16NwPStAKzMzMzMzK0BA4XoUrkcrQGBmZmZmZitA\",\"dtype\":\"float64\",\"shape\":[60]}}},\"id\":\"90f1b0bd-e4f0-46e3-9329-19cc8160d43a\",\"type\":\"ColumnDataSource\"},{\"attributes\":{\"callback\":null,\"column_names\":[\"y\",\"x\"],\"data\":{\"x\":[1955,1956,1957,1958,1959,1960,1961,1962,1963,1964,1965,1966,1967,1968,1969,1970,1971,1972,1973,1974,1975,1976,1977,1978,1979,1980,1981,1982,1983,1984,1985,1986,1987,1988,1989,1990,1991,1992,1993,1994,1995,1996,1997,1998,1999,2000,2001,2002,2003,2004,2005,2006,2007,2008,2009,2010,2011,2012,2013,2014],\"y\":{\"__ndarray__\":\"AAAAAAAA+H8AAAAAAAD4fwAAAAAAAPh/AAAAAAAA+H/hehSuR+E3QIXrUbgehTdAehSuR+F6N0CF61G4HoU3QF2PwvUo3DZAXI/C9ShcNkApXI/C9Sg2QD4K16NwPTZA16NwPQrXNkB6FK5H4Xo2QFyPwvUoXDZAZ2ZmZmZmNkBoZmZmZmY2QPcoXI/CdTVAuh6F61E4NUCG61G4HgU0QBauR+F6lDJAAgAAAAAAMUDG9Shcj8IuQNujcD0K1ytA5noUrkfhK0BDCtejcD0rQGtmZmZmZipAODMzMzMzK0CAFK5H4XosQIAUrkfheixAnpmZmZmZLUBN4XoUrkcvQOR6FK5HYTBANjMzMzMzMUA/CtejcL0yQLBH4XoULjRAU7gehetRPkByPQrXozBAQOxRuB6F60FAj8L1KFyPQ0DrUbgehetEQM3MzMzMDEJA16NwPQqXQkBnZmZmZiZDQPYoXI/CdUNAXY/C9SgcQ0DtUbgehStCQPcoXI/C9UFA9ihcj8L1QECQwvUoXA8/QCpcj8L1KD9A16NwPQoXQEA9CtejcD0/QCpcj8L1qD5ArkfhehQuPkCamZmZmZk8QOtRuB6FazpA61G4HoVrOUDsUbgehes4QNejcD0KVzhA\",\"dtype\":\"float64\",\"shape\":[60]}}},\"id\":\"a8e64d33-a127-4407-a8d8-b9fa1a58b95e\",\"type\":\"ColumnDataSource\"},{\"attributes\":{\"callback\":null,\"column_names\":[\"y\",\"x\"],\"data\":{\"x\":[1955,1956,1957,1958,1959,1960,1961,1962,1963,1964,1965,1966,1967,1968,1969,1970,1971,1972,1973,1974,1975,1976,1977,1978,1979,1980,1981,1982,1983,1984,1985,1986,1987,1988,1989,1990,1991,1992,1993,1994,1995,1996,1997,1998,1999,2000,2001,2002,2003,2004,2005,2006,2007,2008,2009,2010,2011,2012,2013,2014],\"y\":{\"__ndarray__\":\"AAAAAAAA+H8AAAAAAAD4fwAAAAAAAPh/AAAAAAAA+H+amZmZmblvQJqZmZmZ6W5ApXA9CtezbEC6HoXrUXhtQEjhehSu525AkML1KFyPb0C4HoXrUSBwQLgehetReHBAehSuR+FicUDC9ShcjxJxQAAAAAAAqHFAw/UoXI+SckA+CtejcHV0QIbrUbge1XRAKVyPwvWQdUAVrkfhekR2QJDC9ShcP3ZAuR6F61GIdUBnZmZmZqZ1QHsUrkfhKndAFa5H4XqEd0DXo3A9Co95QNijcD0KB3pA2KNwPQrvekDNzMzMzMR6QNijcD0Kf3xA7VG4HoXjfEDF9Shcj2p9QEAK16NwTXxAVbgehevRfUDG9Shcj/p9QHU9CtejkH1AskfhehSmfUAtXI/C9TB9QL0ehetRiHtAk8L1KFwPekBL4XoUru94QLsehetRqHlAksL1KFxHekA1MzMzM9t6QM7MzMzMFHtA+Chcj8JFe0DF9Shcj7J5QLsehetRoHlAXo/C9Sh8eECmcD0K1+t2QErhehSul3ZApnA9Ctezd0DYo3A9Cg93QOxRuB6F43dAPgrXo3DdeEDD9Shcj6p4QK5H4XoUTnhA9ihcj8IdeUDOzMzMzDR4QOJ6FK5HaXdA\",\"dtype\":\"float64\",\"shape\":[60]}}},\"id\":\"17f4021b-4c71-4a90-8f62-a38cf2360eeb\",\"type\":\"ColumnDataSource\"},{\"attributes\":{\"bottom_units\":\"screen\",\"fill_alpha\":{\"value\":0.5},\"fill_color\":{\"value\":\"lightgrey\"},\"left_units\":\"screen\",\"level\":\"overlay\",\"line_alpha\":{\"value\":1.0},\"line_color\":{\"value\":\"black\"},\"line_dash\":[4,4],\"line_width\":{\"value\":2},\"plot\":null,\"render_mode\":\"css\",\"right_units\":\"screen\",\"top_units\":\"screen\"},\"id\":\"137d9bd3-b911-4388-80da-2a98f405a595\",\"type\":\"BoxAnnotation\"},{\"attributes\":{\"callback\":null},\"id\":\"4dccecea-46c6-4830-b9d9-8f4b3083d88b\",\"type\":\"DataRange1d\"},{\"attributes\":{\"callback\":null,\"column_names\":[\"y\",\"x\"],\"data\":{\"x\":[1955,1956,1957,1958,1959,1960,1961,1962,1963,1964,1965,1966,1967,1968,1969,1970,1971,1972,1973,1974,1975,1976,1977,1978,1979,1980,1981,1982,1983,1984,1985,1986,1987,1988,1989,1990,1991,1992,1993,1994,1995,1996,1997,1998,1999,2000,2001,2002,2003,2004,2005,2006,2007,2008,2009,2010,2011,2012,2013,2014],\"y\":{\"__ndarray__\":\"AAAAAAAA+H8AAAAAAAD4fwAAAAAAAPh/AAAAAAAA+H8AAAAAAGBeQEjhehSuZ15A1qNwPQq3XUC4HoXrURhfQAAAAAAAgGBAuR6F61EIYUCamZmZmXlhQLoehetR6GFA2KNwPQqXYkBI4XoUrndiQDMzMzMzA2NAexSuR+G6Y0DYo3A9ChdlQKVwPQrXk2VAhutRuB5VZkD2KFyPwqVmQPYoXI/CBWdA61G4HoWrZkAK16NwPQpnQEfhehSu92dAMjMzMzPTaEB6FK5H4apqQChcj8L16GtArkfhehR+bUCuR+F6FF5uQJqZmZmZKXBAmpmZmZlBcEAAAAAAALBwQJDC9Shcl3BA9ihcj8INcUCQwvUoXAdxQDQzMzMz63BAcj0K16OYcEDD9Shcj0pwQAvXo3A9um9A9ihcj8LFbkBmZmZmZsZuQOtRuB6FS29AhetRuB61b0ApXI/C9QhwQIXrUbgeXXBA4XoUrkdxcEAAAAAAAEBwQMP1KFyP4m9A2KNwPQonb0ClcD0K19NtQF2PwvUorG1AcD0K16MAbkDgehSuRzFuQAjXo3A9Gm9Ath6F61HIb0DWo3A9CudvQAAAAAAACHBArkfhehROcEBTuB6F68FvQMP1KFyPEm9A\",\"dtype\":\"float64\",\"shape\":[60]}}},\"id\":\"d6ae2de1-9808-45f7-ab01-6b7933c0acde\",\"type\":\"ColumnDataSource\"},{\"attributes\":{\"plot\":{\"id\":\"50231ae6-0c01-4eea-a591-49b95a879f09\",\"subtype\":\"Figure\",\"type\":\"Plot\"}},\"id\":\"9b8c2b98-74db-4159-9479-150b143bef13\",\"type\":\"PanTool\"},{\"attributes\":{\"fill_alpha\":{\"value\":0.2},\"fill_color\":{\"value\":\"grey\"},\"line_alpha\":{\"value\":0.2},\"line_color\":{\"value\":\"grey\"},\"size\":{\"units\":\"screen\",\"value\":6},\"x\":{\"field\":\"x\"},\"y\":{\"field\":\"y\"}},\"id\":\"059f6a0b-def2-434e-b5e9-19dd17135361\",\"type\":\"Circle\"},{\"attributes\":{\"fill_color\":{\"value\":\"#1b9e77\"},\"line_color\":{\"value\":\"#1b9e77\"},\"size\":{\"units\":\"screen\",\"value\":6},\"x\":{\"field\":\"x\"},\"y\":{\"field\":\"y\"}},\"id\":\"d4b1a98f-48bf-47bc-b144-f564b3713289\",\"type\":\"Circle\"},{\"attributes\":{\"fill_color\":{\"value\":\"#66a61e\"},\"line_color\":{\"value\":\"#66a61e\"},\"size\":{\"units\":\"screen\",\"value\":6},\"x\":{\"field\":\"x\"},\"y\":{\"field\":\"y\"}},\"id\":\"7b213987-2f67-4843-bae5-5afd5119d4ee\",\"type\":\"Circle\"},{\"attributes\":{\"label\":{\"value\":\"Springs\"},\"renderers\":[{\"id\":\"08014423-6186-4b54-9740-80d659d58677\",\"type\":\"GlyphRenderer\"},{\"id\":\"fe405d3b-d1cc-4e9e-b8dc-96c34a3d8aad\",\"type\":\"GlyphRenderer\"}]},\"id\":\"c8da5dfd-7b5c-4099-9abc-7fa303b64cab\",\"type\":\"LegendItem\"},{\"attributes\":{\"overlay\":{\"id\":\"52e8da0f-4d86-4bfb-9459-c075c3ef3728\",\"type\":\"BoxAnnotation\"},\"plot\":{\"id\":\"50231ae6-0c01-4eea-a591-49b95a879f09\",\"subtype\":\"Figure\",\"type\":\"Plot\"}},\"id\":\"c4c4de2f-e717-454a-9663-c377b178c97c\",\"type\":\"BoxZoomTool\"},{\"attributes\":{\"fill_alpha\":{\"value\":0.2},\"fill_color\":{\"value\":\"grey\"},\"line_alpha\":{\"value\":0.2},\"line_color\":{\"value\":\"grey\"},\"size\":{\"units\":\"screen\",\"value\":6},\"x\":{\"field\":\"x\"},\"y\":{\"field\":\"y\"}},\"id\":\"70ef3db2-d8f1-4bab-82da-052d7f43e391\",\"type\":\"Circle\"},{\"attributes\":{\"line_alpha\":{\"value\":0.2},\"line_color\":{\"value\":\"grey\"},\"line_join\":\"round\",\"line_width\":{\"value\":3},\"x\":{\"field\":\"x\"},\"y\":{\"field\":\"y\"}},\"id\":\"a89b3242-5929-4820-acc4-b708496b7dcb\",\"type\":\"Line\"},{\"attributes\":{\"line_color\":{\"value\":\"#1b9e77\"},\"line_join\":\"round\",\"line_width\":{\"value\":3},\"x\":{\"field\":\"x\"},\"y\":{\"field\":\"y\"}},\"id\":\"ee0df09b-ec1c-4d89-8f86-6ad286f0f415\",\"type\":\"Line\"},{\"attributes\":{},\"id\":\"72c7118f-e3d4-4f6d-ad3f-00ace54d0dde\",\"type\":\"ToolEvents\"},{\"attributes\":{\"fill_alpha\":{\"value\":0.1},\"fill_color\":{\"value\":\"#1f77b4\"},\"line_alpha\":{\"value\":0.1},\"line_color\":{\"value\":\"#1f77b4\"},\"size\":{\"units\":\"screen\",\"value\":6},\"x\":{\"field\":\"x\"},\"y\":{\"field\":\"y\"}},\"id\":\"9aac650b-11ed-4b4c-b437-ea9610a238bf\",\"type\":\"Circle\"},{\"attributes\":{\"callback\":null,\"column_names\":[\"y\",\"x\"],\"data\":{\"x\":[1955,1956,1957,1958,1959,1960,1961,1962,1963,1964,1965,1966,1967,1968,1969,1970,1971,1972,1973,1974,1975,1976,1977,1978,1979,1980,1981,1982,1983,1984,1985,1986,1987,1988,1989,1990,1991,1992,1993,1994,1995,1996,1997,1998,1999,2000,2001,2002,2003,2004,2005,2006,2007,2008,2009,2010,2011,2012,2013,2014],\"y\":{\"__ndarray__\":\"AAAAAAAA+H8AAAAAAAD4fwAAAAAAAPh/AAAAAAAA+H/NzMzMzPxtQAAAAAAAwHJAmpmZmZmRd0BH4XoUrtd4QFyPwvUo3HZAUrgeheu5dEC4HoXrUWhzQLgehetRqHFAuB6F61FYcEBcj8L1KHRyQKRwPQrXK3RA7FG4HoUbdUA0MzMzM5N0QAvXo3A9knZAAQAAAAAQeEAghetRuLZ5QJLC9Shcf3tANjMzMzNjfkDOzMzMzHiAQH4UrkfhCn9AVbgeheuJf0A2MzMzM+N8QLJH4XoUrntATOF6FK6XeECAFK5H4ap3QKpwPQrXW3NAtEfhehRuc0C+HoXrUTBzQN6jcD0K/3VA6HoUrkfZdkCqcD0K12t3QDBcj8L1QHZAtUfhehTWdUD7KFyPwuV4QNPMzMzMpHtAvh6F61G4fUDK9Shcjzp/QBLXo3A9cn1A/ihcj8I1eEDVzMzMzKR2QE/hehSud3dA9FG4HoUrd0A7MzMzMyN7QG5mZmZm9n1AtkfhehTuf0BWuB6F6wGBQOZ6FK5H8YJAQgrXo3CVgUDG9Shcj6aBQO9RuB6FX4BAlsL1KFyPfEB4PQrXo5h6QIIUrkfhAnpAwB6F61EIdkDK9Shcj7pzQBLXo3A9knJA\",\"dtype\":\"float64\",\"shape\":[60]}}},\"id\":\"b034ab08-c1d4-4eee-87e4-9aacdcf19305\",\"type\":\"ColumnDataSource\"},{\"attributes\":{\"fill_alpha\":{\"value\":0.1},\"fill_color\":{\"value\":\"#1f77b4\"},\"line_alpha\":{\"value\":0.1},\"line_color\":{\"value\":\"#1f77b4\"},\"size\":{\"units\":\"screen\",\"value\":6},\"x\":{\"field\":\"x\"},\"y\":{\"field\":\"y\"}},\"id\":\"682947c1-94f3-401b-bca4-a458fb21c734\",\"type\":\"Circle\"},{\"attributes\":{\"data_source\":{\"id\":\"ab9ffd1a-f3b5-4de4-8bd5-c98644c1f90d\",\"type\":\"ColumnDataSource\"},\"glyph\":{\"id\":\"041dfe40-ea61-4972-8f45-f30711f38366\",\"type\":\"Circle\"},\"hover_glyph\":null,\"muted_glyph\":{\"id\":\"059f6a0b-def2-434e-b5e9-19dd17135361\",\"type\":\"Circle\"},\"nonselection_glyph\":{\"id\":\"9aac650b-11ed-4b4c-b437-ea9610a238bf\",\"type\":\"Circle\"},\"selection_glyph\":null},\"id\":\"fe405d3b-d1cc-4e9e-b8dc-96c34a3d8aad\",\"type\":\"GlyphRenderer\"},{\"attributes\":{\"data_source\":{\"id\":\"17f4021b-4c71-4a90-8f62-a38cf2360eeb\",\"type\":\"ColumnDataSource\"},\"glyph\":{\"id\":\"7b213987-2f67-4843-bae5-5afd5119d4ee\",\"type\":\"Circle\"},\"hover_glyph\":null,\"muted_glyph\":{\"id\":\"112069d3-2956-4d7c-a80c-05c3af2d18ac\",\"type\":\"Circle\"},\"nonselection_glyph\":{\"id\":\"adde571d-79a7-4e24-aed0-25274e0882a9\",\"type\":\"Circle\"},\"selection_glyph\":null},\"id\":\"9e9fde2f-33ee-4ff4-ab57-2f7f6a4e2f46\",\"type\":\"GlyphRenderer\"},{\"attributes\":{\"label\":{\"value\":\"Municipal\"},\"renderers\":[{\"id\":\"2d4051d8-064f-4675-a98a-bed811a86db7\",\"type\":\"GlyphRenderer\"},{\"id\":\"18602c73-00b0-4aee-a07c-70537b0d1140\",\"type\":\"GlyphRenderer\"}]},\"id\":\"2e8cdeb7-7aa7-4448-99c4-f157b1db9df2\",\"type\":\"LegendItem\"},{\"attributes\":{\"data_source\":{\"id\":\"a2d9542a-8a76-47f5-97b3-a0e7741c463d\",\"type\":\"ColumnDataSource\"},\"glyph\":{\"id\":\"d4b1a98f-48bf-47bc-b144-f564b3713289\",\"type\":\"Circle\"},\"hover_glyph\":null,\"muted_glyph\":{\"id\":\"70ef3db2-d8f1-4bab-82da-052d7f43e391\",\"type\":\"Circle\"},\"nonselection_glyph\":{\"id\":\"e7017add-bf05-4efa-b2f0-820d6d07c610\",\"type\":\"Circle\"},\"selection_glyph\":null},\"id\":\"77fab752-582c-46bb-a7b0-45666049f94e\",\"type\":\"GlyphRenderer\"},{\"attributes\":{\"data_source\":{\"id\":\"17c427ae-6354-4c99-8739-c6d6c9b66133\",\"type\":\"ColumnDataSource\"},\"glyph\":{\"id\":\"27c472ed-fefe-4135-9e2f-de38865d2be1\",\"type\":\"Line\"},\"hover_glyph\":null,\"muted_glyph\":{\"id\":\"7766d312-c578-42d5-b3f4-68369eb17aaf\",\"type\":\"Line\"},\"nonselection_glyph\":{\"id\":\"98876174-c507-4408-ac47-e63d5de03326\",\"type\":\"Line\"},\"selection_glyph\":null},\"id\":\"29ffb4ea-896f-4643-a8eb-3a2cf1df8a3c\",\"type\":\"GlyphRenderer\"},{\"attributes\":{\"fill_color\":{\"value\":\"#e7298a\"},\"line_color\":{\"value\":\"#e7298a\"},\"size\":{\"units\":\"screen\",\"value\":6},\"x\":{\"field\":\"x\"},\"y\":{\"field\":\"y\"}},\"id\":\"da21f904-af68-4857-b7a6-53c6579a93f8\",\"type\":\"Circle\"},{\"attributes\":{},\"id\":\"ea211378-c2a2-4759-a4dd-86a52e0b815e\",\"type\":\"ToolEvents\"},{\"attributes\":{\"dimension\":1,\"plot\":{\"id\":\"99ad3586-5d3a-470f-98c9-7b83eef3a86f\",\"subtype\":\"Figure\",\"type\":\"Plot\"},\"ticker\":{\"id\":\"80d477b0-7beb-4038-8225-d8b6a391596b\",\"type\":\"BasicTicker\"}},\"id\":\"70d9f736-7f42-4c85-952e-137b237c2b86\",\"type\":\"Grid\"},{\"attributes\":{\"line_color\":{\"value\":\"#d95f02\"},\"line_join\":\"round\",\"line_width\":{\"value\":3},\"x\":{\"field\":\"x\"},\"y\":{\"field\":\"y\"}},\"id\":\"32421e22-27c9-4ba2-b67d-1c6b4a622ded\",\"type\":\"Line\"},{\"attributes\":{\"fill_alpha\":{\"value\":0.5},\"fill_color\":{\"value\":\"lightgrey\"},\"level\":\"overlay\",\"line_alpha\":{\"value\":1.0},\"line_color\":{\"value\":\"black\"},\"line_dash\":[4,4],\"line_width\":{\"value\":2},\"plot\":null,\"xs_units\":\"screen\",\"ys_units\":\"screen\"},\"id\":\"7155b7d2-37bd-417d-be9f-145db99514ca\",\"type\":\"PolyAnnotation\"},{\"attributes\":{\"line_color\":{\"value\":\"#1b9e77\"},\"line_join\":\"round\",\"line_width\":{\"value\":3},\"x\":{\"field\":\"x\"},\"y\":{\"field\":\"y\"}},\"id\":\"27c472ed-fefe-4135-9e2f-de38865d2be1\",\"type\":\"Line\"},{\"attributes\":{\"click_policy\":\"mute\",\"items\":[{\"id\":\"99dbc8ed-f76d-4c85-b7aa-d8c31681e756\",\"type\":\"LegendItem\"},{\"id\":\"2e8cdeb7-7aa7-4448-99c4-f157b1db9df2\",\"type\":\"LegendItem\"},{\"id\":\"4b7168bf-e935-48e3-8380-fef23fcf9d31\",\"type\":\"LegendItem\"},{\"id\":\"fc162bb2-4875-4d24-aeb1-51844df24dac\",\"type\":\"LegendItem\"},{\"id\":\"faf2e83f-f2fb-426d-96d1-94f00c7c9b78\",\"type\":\"LegendItem\"}],\"location\":\"top_left\",\"plot\":{\"id\":\"99ad3586-5d3a-470f-98c9-7b83eef3a86f\",\"subtype\":\"Figure\",\"type\":\"Plot\"}},\"id\":\"ac64bb43-0e67-4b63-adfd-2b50391ec2f8\",\"type\":\"Legend\"},{\"attributes\":{\"below\":[{\"id\":\"909361b6-f63f-4134-aa1a-d91a85ea46a1\",\"type\":\"LinearAxis\"}],\"left\":[{\"id\":\"6477cf15-32c1-44ce-85eb-a54b611e98e9\",\"type\":\"LinearAxis\"}],\"plot_height\":400,\"plot_width\":900,\"renderers\":[{\"id\":\"909361b6-f63f-4134-aa1a-d91a85ea46a1\",\"type\":\"LinearAxis\"},{\"id\":\"76ad5bfd-47be-4baf-9b62-d690a9b19fda\",\"type\":\"Grid\"},{\"id\":\"6477cf15-32c1-44ce-85eb-a54b611e98e9\",\"type\":\"LinearAxis\"},{\"id\":\"70d9f736-7f42-4c85-952e-137b237c2b86\",\"type\":\"Grid\"},{\"id\":\"137d9bd3-b911-4388-80da-2a98f405a595\",\"type\":\"BoxAnnotation\"},{\"id\":\"7155b7d2-37bd-417d-be9f-145db99514ca\",\"type\":\"PolyAnnotation\"},{\"id\":\"ac64bb43-0e67-4b63-adfd-2b50391ec2f8\",\"type\":\"Legend\"},{\"id\":\"29ffb4ea-896f-4643-a8eb-3a2cf1df8a3c\",\"type\":\"GlyphRenderer\"},{\"id\":\"77fab752-582c-46bb-a7b0-45666049f94e\",\"type\":\"GlyphRenderer\"},{\"id\":\"2d4051d8-064f-4675-a98a-bed811a86db7\",\"type\":\"GlyphRenderer\"},{\"id\":\"18602c73-00b0-4aee-a07c-70537b0d1140\",\"type\":\"GlyphRenderer\"},{\"id\":\"95520842-25e2-43e4-85c4-b65382bb0a6c\",\"type\":\"GlyphRenderer\"},{\"id\":\"dae69361-84b2-4553-99f3-48565eaf440c\",\"type\":\"GlyphRenderer\"},{\"id\":\"7b5042b3-3979-483a-af35-84a96c294958\",\"type\":\"GlyphRenderer\"},{\"id\":\"ae3f08f8-b5ce-40ce-a9cf-092c5973aafb\",\"type\":\"GlyphRenderer\"},{\"id\":\"86710c87-91b2-4680-9bb7-25451ddf1ea7\",\"type\":\"GlyphRenderer\"},{\"id\":\"9e9fde2f-33ee-4ff4-ab57-2f7f6a4e2f46\",\"type\":\"GlyphRenderer\"},{\"id\":\"ff41bac2-25ee-402e-be4b-cd9aa65062a7\",\"type\":\"Label\"}],\"title\":{\"id\":\"54e7fceb-8e43-47be-8a4f-c96f2d1b208d\",\"type\":\"Title\"},\"tool_events\":{\"id\":\"ea211378-c2a2-4759-a4dd-86a52e0b815e\",\"type\":\"ToolEvents\"},\"toolbar\":{\"id\":\"614007c6-cbad-490c-9482-5fea68482edf\",\"type\":\"Toolbar\"},\"toolbar_location\":null,\"x_range\":{\"id\":\"6d1661ef-6a03-469e-8374-775df10d507b\",\"type\":\"DataRange1d\"},\"y_range\":{\"id\":\"812f5405-5bbb-49b2-9145-10e93cb5827e\",\"type\":\"DataRange1d\"}},\"id\":\"99ad3586-5d3a-470f-98c9-7b83eef3a86f\",\"subtype\":\"Figure\",\"type\":\"Plot\"},{\"attributes\":{\"plot\":null,\"text\":\"Wells\"},\"id\":\"54e7fceb-8e43-47be-8a4f-c96f2d1b208d\",\"type\":\"Title\"},{\"attributes\":{\"active_drag\":\"auto\",\"active_scroll\":\"auto\",\"active_tap\":\"auto\",\"logo\":null,\"tools\":[{\"id\":\"55c20f93-aec4-4420-a005-cfc5c3353644\",\"type\":\"BoxZoomTool\"},{\"id\":\"08770d24-40de-4515-9bab-a019fdcb0289\",\"type\":\"ResetTool\"},{\"id\":\"0bf476d0-1ef3-4b48-8bef-f01782b17240\",\"type\":\"LassoSelectTool\"},{\"id\":\"3112221f-fad1-407f-8ad3-b6c33142734a\",\"type\":\"PanTool\"}]},\"id\":\"614007c6-cbad-490c-9482-5fea68482edf\",\"type\":\"Toolbar\"},{\"attributes\":{\"background_fill_alpha\":{\"value\":0.5},\"background_fill_color\":{\"value\":\"white\"},\"border_line_color\":{\"value\":\"black\"},\"plot\":{\"id\":\"99ad3586-5d3a-470f-98c9-7b83eef3a86f\",\"subtype\":\"Figure\",\"type\":\"Plot\"},\"render_mode\":\"css\",\"text\":\"Source: EAA\",\"text_font_size\":{\"value\":\"6pt\"},\"x\":55,\"x_units\":\"screen\",\"y\":45,\"y_units\":\"screen\"},\"id\":\"ff41bac2-25ee-402e-be4b-cd9aa65062a7\",\"type\":\"Label\"},{\"attributes\":{\"data_source\":{\"id\":\"a8e64d33-a127-4407-a8d8-b9fa1a58b95e\",\"type\":\"ColumnDataSource\"},\"glyph\":{\"id\":\"da21f904-af68-4857-b7a6-53c6579a93f8\",\"type\":\"Circle\"},\"hover_glyph\":null,\"muted_glyph\":{\"id\":\"bc5a4403-b079-4cb1-ae81-d80cea783995\",\"type\":\"Circle\"},\"nonselection_glyph\":{\"id\":\"682947c1-94f3-401b-bca4-a458fb21c734\",\"type\":\"Circle\"},\"selection_glyph\":null},\"id\":\"ae3f08f8-b5ce-40ce-a9cf-092c5973aafb\",\"type\":\"GlyphRenderer\"},{\"attributes\":{\"data_source\":{\"id\":\"d6ae2de1-9808-45f7-ab01-6b7933c0acde\",\"type\":\"ColumnDataSource\"},\"glyph\":{\"id\":\"c9ce516d-5827-4884-a2e7-149a1af19d5c\",\"type\":\"Circle\"},\"hover_glyph\":null,\"muted_glyph\":{\"id\":\"9b59cb30-0b74-4c72-be91-04b68ffb7e51\",\"type\":\"Circle\"},\"nonselection_glyph\":{\"id\":\"bb17fdd1-098d-4f3a-bbea-bce8253faa0c\",\"type\":\"Circle\"},\"selection_glyph\":null},\"id\":\"18602c73-00b0-4aee-a07c-70537b0d1140\",\"type\":\"GlyphRenderer\"},{\"attributes\":{\"callback\":null,\"overlay\":{\"id\":\"7155b7d2-37bd-417d-be9f-145db99514ca\",\"type\":\"PolyAnnotation\"},\"plot\":{\"id\":\"99ad3586-5d3a-470f-98c9-7b83eef3a86f\",\"subtype\":\"Figure\",\"type\":\"Plot\"}},\"id\":\"0bf476d0-1ef3-4b48-8bef-f01782b17240\",\"type\":\"LassoSelectTool\"},{\"attributes\":{\"label\":{\"value\":\"Irrigation\"},\"renderers\":[{\"id\":\"29ffb4ea-896f-4643-a8eb-3a2cf1df8a3c\",\"type\":\"GlyphRenderer\"},{\"id\":\"77fab752-582c-46bb-a7b0-45666049f94e\",\"type\":\"GlyphRenderer\"}]},\"id\":\"99dbc8ed-f76d-4c85-b7aa-d8c31681e756\",\"type\":\"LegendItem\"},{\"attributes\":{\"click_policy\":\"mute\",\"items\":[{\"id\":\"c8da5dfd-7b5c-4099-9abc-7fa303b64cab\",\"type\":\"LegendItem\"}],\"location\":\"top_left\",\"plot\":{\"id\":\"50231ae6-0c01-4eea-a591-49b95a879f09\",\"subtype\":\"Figure\",\"type\":\"Plot\"}},\"id\":\"f8d21890-9146-4f5e-8933-c4035ad3afa4\",\"type\":\"Legend\"},{\"attributes\":{\"line_alpha\":{\"value\":0.1},\"line_color\":{\"value\":\"#1f77b4\"},\"line_join\":\"round\",\"line_width\":{\"value\":3},\"x\":{\"field\":\"x\"},\"y\":{\"field\":\"y\"}},\"id\":\"3497dd3b-4686-45f5-8086-22c1a143c857\",\"type\":\"Line\"},{\"attributes\":{\"fill_color\":{\"value\":\"#d95f02\"},\"line_color\":{\"value\":\"#d95f02\"},\"size\":{\"units\":\"screen\",\"value\":6},\"x\":{\"field\":\"x\"},\"y\":{\"field\":\"y\"}},\"id\":\"c9ce516d-5827-4884-a2e7-149a1af19d5c\",\"type\":\"Circle\"},{\"attributes\":{\"children\":[{\"id\":\"50231ae6-0c01-4eea-a591-49b95a879f09\",\"subtype\":\"Figure\",\"type\":\"Plot\"}]},\"id\":\"8bedf9f8-6c4d-4df0-9e29-6e6f336807c9\",\"type\":\"Row\"},{\"attributes\":{\"plot\":{\"id\":\"99ad3586-5d3a-470f-98c9-7b83eef3a86f\",\"subtype\":\"Figure\",\"type\":\"Plot\"}},\"id\":\"08770d24-40de-4515-9bab-a019fdcb0289\",\"type\":\"ResetTool\"},{\"attributes\":{\"line_alpha\":{\"value\":0.2},\"line_color\":{\"value\":\"grey\"},\"line_join\":\"round\",\"line_width\":{\"value\":3},\"x\":{\"field\":\"x\"},\"y\":{\"field\":\"y\"}},\"id\":\"43517144-75a7-4111-8413-173f81d9dc79\",\"type\":\"Line\"},{\"attributes\":{\"fill_alpha\":{\"value\":0.2},\"fill_color\":{\"value\":\"grey\"},\"line_alpha\":{\"value\":0.2},\"line_color\":{\"value\":\"grey\"},\"size\":{\"units\":\"screen\",\"value\":6},\"x\":{\"field\":\"x\"},\"y\":{\"field\":\"y\"}},\"id\":\"bc5a4403-b079-4cb1-ae81-d80cea783995\",\"type\":\"Circle\"},{\"attributes\":{\"data_source\":{\"id\":\"ad19ac18-1cf4-418c-8aed-30e6340090ad\",\"type\":\"ColumnDataSource\"},\"glyph\":{\"id\":\"32421e22-27c9-4ba2-b67d-1c6b4a622ded\",\"type\":\"Line\"},\"hover_glyph\":null,\"muted_glyph\":{\"id\":\"a28c5a67-78d7-470c-9bb9-9083db58da21\",\"type\":\"Line\"},\"nonselection_glyph\":{\"id\":\"f8100eaa-0a3d-4a6e-a43f-2268480538b7\",\"type\":\"Line\"},\"selection_glyph\":null},\"id\":\"2d4051d8-064f-4675-a98a-bed811a86db7\",\"type\":\"GlyphRenderer\"},{\"attributes\":{\"line_color\":{\"value\":\"#e7298a\"},\"line_join\":\"round\",\"line_width\":{\"value\":3},\"x\":{\"field\":\"x\"},\"y\":{\"field\":\"y\"}},\"id\":\"275e7136-042a-4a55-a67c-2e7a6352fec1\",\"type\":\"Line\"},{\"attributes\":{\"callback\":null,\"column_names\":[\"y\",\"x\"],\"data\":{\"x\":[1955,1956,1957,1958,1959,1960,1961,1962,1963,1964,1965,1966,1967,1968,1969,1970,1971,1972,1973,1974,1975,1976,1977,1978,1979,1980,1981,1982,1983,1984,1985,1986,1987,1988,1989,1990,1991,1992,1993,1994,1995,1996,1997,1998,1999,2000,2001,2002,2003,2004,2005,2006,2007,2008,2009,2010,2011,2012,2013,2014],\"y\":{\"__ndarray__\":\"AAAAAAAA+H8AAAAAAAD4fwAAAAAAAPh/AAAAAAAA+H/hehSuR+E3QIXrUbgehTdAehSuR+F6N0CF61G4HoU3QF2PwvUo3DZAXI/C9ShcNkApXI/C9Sg2QD4K16NwPTZA16NwPQrXNkB6FK5H4Xo2QFyPwvUoXDZAZ2ZmZmZmNkBoZmZmZmY2QPcoXI/CdTVAuh6F61E4NUCG61G4HgU0QBauR+F6lDJAAgAAAAAAMUDG9Shcj8IuQNujcD0K1ytA5noUrkfhK0BDCtejcD0rQGtmZmZmZipAODMzMzMzK0CAFK5H4XosQIAUrkfheixAnpmZmZmZLUBN4XoUrkcvQOR6FK5HYTBANjMzMzMzMUA/CtejcL0yQLBH4XoULjRAU7gehetRPkByPQrXozBAQOxRuB6F60FAj8L1KFyPQ0DrUbgehetEQM3MzMzMDEJA16NwPQqXQkBnZmZmZiZDQPYoXI/CdUNAXY/C9SgcQ0DtUbgehStCQPcoXI/C9UFA9ihcj8L1QECQwvUoXA8/QCpcj8L1KD9A16NwPQoXQEA9CtejcD0/QCpcj8L1qD5ArkfhehQuPkCamZmZmZk8QOtRuB6FazpA61G4HoVrOUDsUbgehes4QNejcD0KVzhA\",\"dtype\":\"float64\",\"shape\":[60]}}},\"id\":\"850fbd38-90c4-40aa-b669-97804ec935db\",\"type\":\"ColumnDataSource\"},{\"attributes\":{\"dimension\":1,\"plot\":{\"id\":\"50231ae6-0c01-4eea-a591-49b95a879f09\",\"subtype\":\"Figure\",\"type\":\"Plot\"},\"ticker\":{\"id\":\"7650319b-cc69-446c-96c7-9aa15d0ddce5\",\"type\":\"BasicTicker\"}},\"id\":\"bdcf8288-a76d-46ef-aee9-6cb30ab51198\",\"type\":\"Grid\"},{\"attributes\":{\"line_alpha\":{\"value\":0.2},\"line_color\":{\"value\":\"grey\"},\"line_join\":\"round\",\"line_width\":{\"value\":3},\"x\":{\"field\":\"x\"},\"y\":{\"field\":\"y\"}},\"id\":\"6ecbdfba-aa47-43f4-ba88-53c461774c5e\",\"type\":\"Line\"},{\"attributes\":{},\"id\":\"1010238e-cd3b-48f3-9748-2065d5483cfd\",\"type\":\"BasicTickFormatter\"}],\"root_ids\":[\"b4f207af-d575-4a6e-905b-e0b02b41b437\"]},\"title\":\"Bokeh Application\",\"version\":\"0.12.5\"}};\n",
       "            var render_items = [{\"docid\":\"2ec52c7f-0593-424d-8136-0ede9dda364c\",\"elementid\":\"7611c7ce-2c2d-43f3-9d7f-3931da381a25\",\"modelid\":\"b4f207af-d575-4a6e-905b-e0b02b41b437\"}];\n",
       "            \n",
       "            Bokeh.embed.embed_items(docs_json, render_items);\n",
       "          };\n",
       "          if (document.readyState != \"loading\") fn();\n",
       "          else document.addEventListener(\"DOMContentLoaded\", fn);\n",
       "        })();\n",
       "      },\n",
       "      function(Bokeh) {\n",
       "      }\n",
       "    ];\n",
       "  \n",
       "    function run_inline_js() {\n",
       "      \n",
       "      if ((window.Bokeh !== undefined) || (force === true)) {\n",
       "        for (var i = 0; i < inline_js.length; i++) {\n",
       "          inline_js[i](window.Bokeh);\n",
       "        }if (force === true) {\n",
       "          display_loaded();\n",
       "        }} else if (Date.now() < window._bokeh_timeout) {\n",
       "        setTimeout(run_inline_js, 100);\n",
       "      } else if (!window._bokeh_failed_load) {\n",
       "        console.log(\"Bokeh: BokehJS failed to load within specified timeout.\");\n",
       "        window._bokeh_failed_load = true;\n",
       "      } else if (force !== true) {\n",
       "        var cell = $(document.getElementById(\"7611c7ce-2c2d-43f3-9d7f-3931da381a25\")).parents('.cell').data().cell;\n",
       "        cell.output_area.append_execute_result(NB_LOAD_WARNING)\n",
       "      }\n",
       "  \n",
       "    }\n",
       "  \n",
       "    if (window._bokeh_is_loading === 0) {\n",
       "      console.log(\"Bokeh: BokehJS loaded, going straight to plotting\");\n",
       "      run_inline_js();\n",
       "    } else {\n",
       "      load_libs(js_urls, function() {\n",
       "        console.log(\"Bokeh: BokehJS plotting callback run at\", now());\n",
       "        run_inline_js();\n",
       "      });\n",
       "    }\n",
       "  }(this));\n",
       "</script>"
      ]
     },
     "metadata": {},
     "output_type": "display_data"
    }
   ],
   "source": [
    "p1 = plotData({'1' : wellDischarge},['1'],'Wells',False,moving_avg=5,cite='EAA',hide=True)\n",
    "p2 = plotData({'1' : springFlow},['1'],'Springs',False,moving_avg=5,hover=True,hide=True,linked_x_range=p1)\n",
    "\n",
    "gp = gridplot([[p1],[p2]])\n",
    "show(gp)"
   ]
  },
  {
   "cell_type": "code",
   "execution_count": 12,
   "metadata": {
    "extensions": {
     "jupyter_dashboards": {
      "version": 1,
      "views": {
       "grid_default": {
        "col": 0,
        "height": 15,
        "hidden": false,
        "row": 0,
        "width": 10
       },
       "report_default": {}
      }
     }
    }
   },
   "outputs": [
    {
     "data": {
      "text/html": [
       "\n",
       "\n",
       "    <div class=\"bk-root\">\n",
       "        <div class=\"bk-plotdiv\" id=\"e9ae5fde-c0b0-45cb-a2a1-917d308e2a6a\"></div>\n",
       "    </div>\n",
       "<script type=\"text/javascript\">\n",
       "  \n",
       "  (function(global) {\n",
       "    function now() {\n",
       "      return new Date();\n",
       "    }\n",
       "  \n",
       "    var force = false;\n",
       "  \n",
       "    if (typeof (window._bokeh_onload_callbacks) === \"undefined\" || force === true) {\n",
       "      window._bokeh_onload_callbacks = [];\n",
       "      window._bokeh_is_loading = undefined;\n",
       "    }\n",
       "  \n",
       "  \n",
       "    \n",
       "    if (typeof (window._bokeh_timeout) === \"undefined\" || force === true) {\n",
       "      window._bokeh_timeout = Date.now() + 0;\n",
       "      window._bokeh_failed_load = false;\n",
       "    }\n",
       "  \n",
       "    var NB_LOAD_WARNING = {'data': {'text/html':\n",
       "       \"<div style='background-color: #fdd'>\\n\"+\n",
       "       \"<p>\\n\"+\n",
       "       \"BokehJS does not appear to have successfully loaded. If loading BokehJS from CDN, this \\n\"+\n",
       "       \"may be due to a slow or bad network connection. Possible fixes:\\n\"+\n",
       "       \"</p>\\n\"+\n",
       "       \"<ul>\\n\"+\n",
       "       \"<li>re-rerun `output_notebook()` to attempt to load from CDN again, or</li>\\n\"+\n",
       "       \"<li>use INLINE resources instead, as so:</li>\\n\"+\n",
       "       \"</ul>\\n\"+\n",
       "       \"<code>\\n\"+\n",
       "       \"from bokeh.resources import INLINE\\n\"+\n",
       "       \"output_notebook(resources=INLINE)\\n\"+\n",
       "       \"</code>\\n\"+\n",
       "       \"</div>\"}};\n",
       "  \n",
       "    function display_loaded() {\n",
       "      if (window.Bokeh !== undefined) {\n",
       "        var el = document.getElementById(\"e9ae5fde-c0b0-45cb-a2a1-917d308e2a6a\");\n",
       "        el.textContent = \"BokehJS \" + Bokeh.version + \" successfully loaded.\";\n",
       "      } else if (Date.now() < window._bokeh_timeout) {\n",
       "        setTimeout(display_loaded, 100)\n",
       "      }\n",
       "    }\n",
       "  \n",
       "    function run_callbacks() {\n",
       "      window._bokeh_onload_callbacks.forEach(function(callback) { callback() });\n",
       "      delete window._bokeh_onload_callbacks\n",
       "      console.info(\"Bokeh: all callbacks have finished\");\n",
       "    }\n",
       "  \n",
       "    function load_libs(js_urls, callback) {\n",
       "      window._bokeh_onload_callbacks.push(callback);\n",
       "      if (window._bokeh_is_loading > 0) {\n",
       "        console.log(\"Bokeh: BokehJS is being loaded, scheduling callback at\", now());\n",
       "        return null;\n",
       "      }\n",
       "      if (js_urls == null || js_urls.length === 0) {\n",
       "        run_callbacks();\n",
       "        return null;\n",
       "      }\n",
       "      console.log(\"Bokeh: BokehJS not loaded, scheduling load and callback at\", now());\n",
       "      window._bokeh_is_loading = js_urls.length;\n",
       "      for (var i = 0; i < js_urls.length; i++) {\n",
       "        var url = js_urls[i];\n",
       "        var s = document.createElement('script');\n",
       "        s.src = url;\n",
       "        s.async = false;\n",
       "        s.onreadystatechange = s.onload = function() {\n",
       "          window._bokeh_is_loading--;\n",
       "          if (window._bokeh_is_loading === 0) {\n",
       "            console.log(\"Bokeh: all BokehJS libraries loaded\");\n",
       "            run_callbacks()\n",
       "          }\n",
       "        };\n",
       "        s.onerror = function() {\n",
       "          console.warn(\"failed to load library \" + url);\n",
       "        };\n",
       "        console.log(\"Bokeh: injecting script tag for BokehJS library: \", url);\n",
       "        document.getElementsByTagName(\"head\")[0].appendChild(s);\n",
       "      }\n",
       "    };var element = document.getElementById(\"e9ae5fde-c0b0-45cb-a2a1-917d308e2a6a\");\n",
       "    if (element == null) {\n",
       "      console.log(\"Bokeh: ERROR: autoload.js configured with elementid 'e9ae5fde-c0b0-45cb-a2a1-917d308e2a6a' but no matching script tag was found. \")\n",
       "      return false;\n",
       "    }\n",
       "  \n",
       "    var js_urls = [];\n",
       "  \n",
       "    var inline_js = [\n",
       "      function(Bokeh) {\n",
       "        (function() {\n",
       "          var fn = function() {\n",
       "            var docs_json = {\"c38bbf21-ab29-4a89-81c6-4af9e926f287\":{\"roots\":{\"references\":[{\"attributes\":{\"label\":{\"value\":\"Irrigation\"},\"renderers\":[{\"id\":\"806a072a-dff3-492e-9df7-9f372bb89af9\",\"type\":\"GlyphRenderer\"}]},\"id\":\"eb35b013-e417-4c95-9ea4-8dc8438ac6bb\",\"type\":\"LegendItem\"},{\"attributes\":{},\"id\":\"c676a4d2-ebce-4cb8-b429-51b962855bbb\",\"type\":\"BasicTicker\"},{\"attributes\":{\"line_color\":{\"value\":\"#d95f02\"},\"line_join\":\"round\",\"line_width\":{\"value\":3},\"x\":{\"field\":\"x\"},\"y\":{\"field\":\"y\"}},\"id\":\"d5743f19-67fa-440f-9249-c242f8a8b8d1\",\"type\":\"Line\"},{\"attributes\":{\"bottom_units\":\"screen\",\"fill_alpha\":{\"value\":0.5},\"fill_color\":{\"value\":\"lightgrey\"},\"left_units\":\"screen\",\"level\":\"overlay\",\"line_alpha\":{\"value\":1.0},\"line_color\":{\"value\":\"black\"},\"line_dash\":[4,4],\"line_width\":{\"value\":2},\"plot\":null,\"render_mode\":\"css\",\"right_units\":\"screen\",\"top_units\":\"screen\"},\"id\":\"88e36790-a137-469b-a81b-725f00cf9789\",\"type\":\"BoxAnnotation\"},{\"attributes\":{\"callback\":null,\"column_names\":[\"y\",\"x\"],\"data\":{\"x\":[1955,1956,1957,1958,1959,1960,1961,1962,1963,1964,1965,1966,1967,1968,1969,1970,1971,1972,1973,1974,1975,1976,1977,1978,1979,1980,1981,1982,1983,1984,1985,1986,1987,1988,1989,1990,1991,1992,1993,1994,1995,1996,1997,1998,1999,2000,2001,2002,2003,2004,2005,2006,2007,2008,2009,2010,2011,2012,2013,2014],\"y\":{\"__ndarray__\":\"AAAAAAAA+H8AAAAAAAD4fwAAAAAAAPh/AAAAAAAA+H89CtejcL0+QArXo3A9ij5ArUfhehSuPkB6FK5H4Xo+QFuPwvUoXD1AUrgehetRPEBmZmZmZuY7QKVwPQrXozpAZmZmZmbmOUBxPQrXo3A5QIXrUbgeBTpAexSuR+F6OkAK16NwPYo7QK5H4XoUrjxACtejcD0KPkBmZmZmZuY+QML1KFyPwj9AehSuR+F6QED1KFyPwjVBQML1KFyPAkJAehSuR+G6QkAyMzMzM7NDQBSuR+F6VERAuB6F61F4REBSuB6F61FEQB6F61G43kNA9Shcj8J1Q0BRuB6F65FDQLcehetR+ENARuF6FK5HREB6FK5H4XpEQJiZmZmZWURAmJmZmZkZREB6FK5H4TpDQEbhehSuB0RAmJmZmZmZQ0C2HoXrUfhAQP3/////fzxA/v//////N0AwMzMzM7MwQC4zMzMzMylA5lG4HoXrKUBYj8L1KFwqQN16FK5H4SpA+///////KkAjXI/C9SgrQEu4HoXrUStAcxSuR+F6K0CIwvUoXI8rQHMUrkfheitAXmZmZmZmK0BKuB6F61ErQDUK16NwPStAKzMzMzMzK0BA4XoUrkcrQGBmZmZmZitA\",\"dtype\":\"float64\",\"shape\":[60]}}},\"id\":\"aa5350e2-2c72-40f4-8b7b-2ba130f5f735\",\"type\":\"ColumnDataSource\"},{\"attributes\":{\"line_alpha\":{\"value\":0.1},\"line_color\":{\"value\":\"#1f77b4\"},\"line_join\":\"round\",\"line_width\":{\"value\":3},\"x\":{\"field\":\"x\"},\"y\":{\"field\":\"y\"}},\"id\":\"bdd2d219-7755-4162-9d00-c9483a1af252\",\"type\":\"Line\"},{\"attributes\":{\"active_drag\":\"auto\",\"active_scroll\":\"auto\",\"active_tap\":\"auto\",\"logo\":null,\"tools\":[{\"id\":\"e440e214-f6ca-4372-b6b3-6fd18066a5d6\",\"type\":\"BoxZoomTool\"},{\"id\":\"bd77929c-fccc-4746-868f-a281cab2ac6f\",\"type\":\"ResetTool\"},{\"id\":\"9a3d26b7-c6f1-4c47-a90e-10b7d9a76761\",\"type\":\"LassoSelectTool\"},{\"id\":\"03c93770-0b72-41f2-8113-c2898b154826\",\"type\":\"PanTool\"}]},\"id\":\"7bea1358-43e1-4608-9943-59353c9f61f5\",\"type\":\"Toolbar\"},{\"attributes\":{\"data_source\":{\"id\":\"75a93cdf-f5a0-4e48-b07e-908e30fb5637\",\"type\":\"ColumnDataSource\"},\"glyph\":{\"id\":\"484dc2bc-d479-4300-a132-01b372961acc\",\"type\":\"Line\"},\"hover_glyph\":null,\"muted_glyph\":{\"id\":\"f326485b-d68e-4648-a035-c1827e0c7d40\",\"type\":\"Line\"},\"nonselection_glyph\":{\"id\":\"acf25c94-50aa-4980-9118-40e41684590d\",\"type\":\"Line\"},\"selection_glyph\":null},\"id\":\"882562fd-cd42-4aa1-928e-9d3b101509fa\",\"type\":\"GlyphRenderer\"},{\"attributes\":{},\"id\":\"a5edf919-45ca-491a-bbab-7c1f23dffc8c\",\"type\":\"ToolEvents\"},{\"attributes\":{\"callback\":null,\"column_names\":[\"y\",\"x\"],\"data\":{\"x\":[1955,1956,1957,1958,1959,1960,1961,1962,1963,1964,1965,1966,1967,1968,1969,1970,1971,1972,1973,1974,1975,1976,1977,1978,1979,1980,1981,1982,1983,1984,1985,1986,1987,1988,1989,1990,1991,1992,1993,1994,1995,1996,1997,1998,1999,2000,2001,2002,2003,2004,2005,2006,2007,2008,2009,2010,2011,2012,2013,2014],\"y\":{\"__ndarray__\":\"AAAAAAAA+H8AAAAAAAD4fwAAAAAAAPh/AAAAAAAA+H/rUbgehWtTQEfhehSu51FAzczMzMxMTEBwPQrXo7BMQML1KFyPgk9AwvUoXI9iUEAK16NwPQpRQLcehetR2FFArkfhehQuVEAAAAAAAGBTQOJ6FK5HgVRAXY/C9SicVkDrUbgehStbQKVwPQrXo1tAK1yPwvXIXEDtUbgehQtfQF2PwvUoXF5AzszMzMxMXEBTuB6F6xFcQAAAAAAAIGBAUrgeheuRX0DC9Shcj9JhQJmZmZmZaWFAHoXrUbiOYUCOwvUoXE9gQOtRuB6F62FAzczMzMyMYkBdj8L1KJxiQFK4HoXrYWBAAQAAAABQYkAAAAAAAHBiQB6F61G4rmFACtejcD1KYUBSuB6F6/FgQDIzMzMzs1tAPArXo3AdV0D+/////z9TQKNwPQrX41dARuF6FK5nWkAoXI/C9YhdQD0K16Nw/V1AZWZmZmaGXkAnXI/C9WhZQIPrUbgeZVpARuF6FK7HV0AdhetRuN5UQFC4HoXr0VNAMjMzMzNTV0C2HoXrUZhUQP7/////P1ZAy8zMzMzsWEDqUbgehUtYQPUoXI/CFVdAPQrXo3B9WUDqUbgehatXQD0K16Nw/VVA\",\"dtype\":\"float64\",\"shape\":[60]}}},\"id\":\"b36330b2-0238-4698-9f24-72ba3ce64153\",\"type\":\"ColumnDataSource\"},{\"attributes\":{\"callback\":null,\"column_names\":[\"y\",\"x\"],\"data\":{\"x\":[1955,1956,1957,1958,1959,1960,1961,1962,1963,1964,1965,1966,1967,1968,1969,1970,1971,1972,1973,1974,1975,1976,1977,1978,1979,1980,1981,1982,1983,1984,1985,1986,1987,1988,1989,1990,1991,1992,1993,1994,1995,1996,1997,1998,1999,2000,2001,2002,2003,2004,2005,2006,2007,2008,2009,2010,2011,2012,2013,2014],\"y\":{\"__ndarray__\":\"AAAAAAAA+H8AAAAAAAD4fwAAAAAAAPh/AAAAAAAA+H/NzMzMzPxtQAAAAAAAwHJAmpmZmZmRd0BH4XoUrtd4QFyPwvUo3HZAUrgeheu5dEC4HoXrUWhzQLgehetRqHFAuB6F61FYcEBcj8L1KHRyQKRwPQrXK3RA7FG4HoUbdUA0MzMzM5N0QAvXo3A9knZAAQAAAAAQeEAghetRuLZ5QJLC9Shcf3tANjMzMzNjfkDOzMzMzHiAQH4UrkfhCn9AVbgeheuJf0A2MzMzM+N8QLJH4XoUrntATOF6FK6XeECAFK5H4ap3QKpwPQrXW3NAtEfhehRuc0C+HoXrUTBzQN6jcD0K/3VA6HoUrkfZdkCqcD0K12t3QDBcj8L1QHZAtUfhehTWdUD7KFyPwuV4QNPMzMzMpHtAvh6F61G4fUDK9Shcjzp/QBLXo3A9cn1A/ihcj8I1eEDVzMzMzKR2QE/hehSud3dA9FG4HoUrd0A7MzMzMyN7QG5mZmZm9n1AtkfhehTuf0BWuB6F6wGBQOZ6FK5H8YJAQgrXo3CVgUDG9Shcj6aBQO9RuB6FX4BAlsL1KFyPfEB4PQrXo5h6QIIUrkfhAnpAwB6F61EIdkDK9Shcj7pzQBLXo3A9knJA\",\"dtype\":\"float64\",\"shape\":[60]}}},\"id\":\"75a93cdf-f5a0-4e48-b07e-908e30fb5637\",\"type\":\"ColumnDataSource\"},{\"attributes\":{\"line_color\":{\"value\":\"#7570b3\"},\"line_join\":\"round\",\"line_width\":{\"value\":3},\"x\":{\"field\":\"x\"},\"y\":{\"field\":\"y\"}},\"id\":\"b19aab39-6817-4772-98f1-dadf11fd1c58\",\"type\":\"Line\"},{\"attributes\":{\"line_alpha\":{\"value\":0.1},\"line_color\":{\"value\":\"#1f77b4\"},\"line_join\":\"round\",\"line_width\":{\"value\":3},\"x\":{\"field\":\"x\"},\"y\":{\"field\":\"y\"}},\"id\":\"f9b39294-499f-4df1-9dfd-22e2d065e5ec\",\"type\":\"Line\"},{\"attributes\":{\"callback\":null},\"id\":\"6a2a42cf-f329-4fed-ba4e-b57bbb87b83a\",\"type\":\"DataRange1d\"},{\"attributes\":{\"line_color\":{\"value\":\"#1b9e77\"},\"line_join\":\"round\",\"line_width\":{\"value\":3},\"x\":{\"field\":\"x\"},\"y\":{\"field\":\"y\"}},\"id\":\"5683e3d3-86c6-4504-aa30-b5c04e2d792c\",\"type\":\"Line\"},{\"attributes\":{\"plot\":null,\"text\":\"Trends in the Edwards Aquifer\"},\"id\":\"737ff713-8ad5-40b3-82fc-67a9f4322593\",\"type\":\"Title\"},{\"attributes\":{\"line_alpha\":{\"value\":0.2},\"line_color\":{\"value\":\"grey\"},\"line_join\":\"round\",\"line_width\":{\"value\":3},\"x\":{\"field\":\"x\"},\"y\":{\"field\":\"y\"}},\"id\":\"235e28d1-8cc3-41ab-b9a5-0bb25acaab23\",\"type\":\"Line\"},{\"attributes\":{\"label\":{\"value\":\"Industrial/Commercial\"},\"renderers\":[{\"id\":\"1bd88d1c-36e6-40dc-8d9d-97403f31dfeb\",\"type\":\"GlyphRenderer\"}]},\"id\":\"03af6aa2-2353-4602-ac5c-57479a0a87d9\",\"type\":\"LegendItem\"},{\"attributes\":{},\"id\":\"7bf9c39f-d68c-4c1b-914a-5ccf41b41433\",\"type\":\"BasicTickFormatter\"},{\"attributes\":{},\"id\":\"877fe8b9-0020-4d6b-b398-b861199cb135\",\"type\":\"BasicTicker\"},{\"attributes\":{\"axis_label\":\"Year\",\"formatter\":{\"id\":\"39aa6ce1-4550-4311-9e02-a5ccb07847cd\",\"type\":\"BasicTickFormatter\"},\"plot\":{\"id\":\"eddd2605-d0e1-45cb-ac9f-37eef99dbe73\",\"subtype\":\"Figure\",\"type\":\"Plot\"},\"ticker\":{\"id\":\"877fe8b9-0020-4d6b-b398-b861199cb135\",\"type\":\"BasicTicker\"}},\"id\":\"d87d4034-b4a7-4a90-8887-3585eebd4a39\",\"type\":\"LinearAxis\"},{\"attributes\":{\"line_alpha\":{\"value\":0.1},\"line_color\":{\"value\":\"#1f77b4\"},\"line_join\":\"round\",\"line_width\":{\"value\":3},\"x\":{\"field\":\"x\"},\"y\":{\"field\":\"y\"}},\"id\":\"acf25c94-50aa-4980-9118-40e41684590d\",\"type\":\"Line\"},{\"attributes\":{\"line_alpha\":{\"value\":0.2},\"line_color\":{\"value\":\"grey\"},\"line_join\":\"round\",\"line_width\":{\"value\":3},\"x\":{\"field\":\"x\"},\"y\":{\"field\":\"y\"}},\"id\":\"c57358e2-8533-4f66-b286-faf9850a0533\",\"type\":\"Line\"},{\"attributes\":{\"below\":[{\"id\":\"d87d4034-b4a7-4a90-8887-3585eebd4a39\",\"type\":\"LinearAxis\"}],\"left\":[{\"id\":\"8b286374-2d14-4d6c-9645-58ffe1c71482\",\"type\":\"LinearAxis\"}],\"plot_height\":400,\"plot_width\":900,\"renderers\":[{\"id\":\"d87d4034-b4a7-4a90-8887-3585eebd4a39\",\"type\":\"LinearAxis\"},{\"id\":\"25dbcf70-7fe8-4c29-a4be-f94d7a39416f\",\"type\":\"Grid\"},{\"id\":\"8b286374-2d14-4d6c-9645-58ffe1c71482\",\"type\":\"LinearAxis\"},{\"id\":\"f402e4ec-b1c0-40f4-b971-a0209fad7cc5\",\"type\":\"Grid\"},{\"id\":\"88e36790-a137-469b-a81b-725f00cf9789\",\"type\":\"BoxAnnotation\"},{\"id\":\"e916b5d2-aa69-49a1-8763-681c0ed3f779\",\"type\":\"PolyAnnotation\"},{\"id\":\"c33599d6-39a0-4a60-a982-9d5b74c27aae\",\"type\":\"Legend\"},{\"id\":\"806a072a-dff3-492e-9df7-9f372bb89af9\",\"type\":\"GlyphRenderer\"},{\"id\":\"dbc948ea-abe8-4b02-9f25-7078053305ee\",\"type\":\"GlyphRenderer\"},{\"id\":\"7671aa3b-783c-4b2f-be64-b736c21d48e5\",\"type\":\"GlyphRenderer\"},{\"id\":\"1bd88d1c-36e6-40dc-8d9d-97403f31dfeb\",\"type\":\"GlyphRenderer\"},{\"id\":\"882562fd-cd42-4aa1-928e-9d3b101509fa\",\"type\":\"GlyphRenderer\"}],\"title\":{\"id\":\"737ff713-8ad5-40b3-82fc-67a9f4322593\",\"type\":\"Title\"},\"tool_events\":{\"id\":\"a5edf919-45ca-491a-bbab-7c1f23dffc8c\",\"type\":\"ToolEvents\"},\"toolbar\":{\"id\":\"7bea1358-43e1-4608-9943-59353c9f61f5\",\"type\":\"Toolbar\"},\"x_range\":{\"id\":\"817ace05-1d98-48e5-b6fc-c3ae8d77f5bd\",\"type\":\"DataRange1d\"},\"y_range\":{\"id\":\"6a2a42cf-f329-4fed-ba4e-b57bbb87b83a\",\"type\":\"DataRange1d\"}},\"id\":\"eddd2605-d0e1-45cb-ac9f-37eef99dbe73\",\"subtype\":\"Figure\",\"type\":\"Plot\"},{\"attributes\":{\"label\":{\"value\":\"Municipal\"},\"renderers\":[{\"id\":\"dbc948ea-abe8-4b02-9f25-7078053305ee\",\"type\":\"GlyphRenderer\"}]},\"id\":\"8c140888-a7ff-4e82-ad8d-5e039ca03857\",\"type\":\"LegendItem\"},{\"attributes\":{\"label\":{\"value\":\"Domestic/Stock\"},\"renderers\":[{\"id\":\"7671aa3b-783c-4b2f-be64-b736c21d48e5\",\"type\":\"GlyphRenderer\"}]},\"id\":\"d5ec44be-7a25-432b-8489-9aa1c65ac1c3\",\"type\":\"LegendItem\"},{\"attributes\":{\"data_source\":{\"id\":\"aa5350e2-2c72-40f4-8b7b-2ba130f5f735\",\"type\":\"ColumnDataSource\"},\"glyph\":{\"id\":\"b19aab39-6817-4772-98f1-dadf11fd1c58\",\"type\":\"Line\"},\"hover_glyph\":null,\"muted_glyph\":{\"id\":\"2a623e5b-16f3-4943-8217-f23014360b56\",\"type\":\"Line\"},\"nonselection_glyph\":{\"id\":\"bdd2d219-7755-4162-9d00-c9483a1af252\",\"type\":\"Line\"},\"selection_glyph\":null},\"id\":\"7671aa3b-783c-4b2f-be64-b736c21d48e5\",\"type\":\"GlyphRenderer\"},{\"attributes\":{},\"id\":\"39aa6ce1-4550-4311-9e02-a5ccb07847cd\",\"type\":\"BasicTickFormatter\"},{\"attributes\":{\"line_color\":{\"value\":\"#e7298a\"},\"line_join\":\"round\",\"line_width\":{\"value\":3},\"x\":{\"field\":\"x\"},\"y\":{\"field\":\"y\"}},\"id\":\"a4659044-777f-41b5-85fa-d124839a418e\",\"type\":\"Line\"},{\"attributes\":{\"line_color\":{\"value\":\"#66a61e\"},\"line_join\":\"round\",\"line_width\":{\"value\":3},\"x\":{\"field\":\"x\"},\"y\":{\"field\":\"y\"}},\"id\":\"484dc2bc-d479-4300-a132-01b372961acc\",\"type\":\"Line\"},{\"attributes\":{\"callback\":null,\"column_names\":[\"y\",\"x\"],\"data\":{\"x\":[1955,1956,1957,1958,1959,1960,1961,1962,1963,1964,1965,1966,1967,1968,1969,1970,1971,1972,1973,1974,1975,1976,1977,1978,1979,1980,1981,1982,1983,1984,1985,1986,1987,1988,1989,1990,1991,1992,1993,1994,1995,1996,1997,1998,1999,2000,2001,2002,2003,2004,2005,2006,2007,2008,2009,2010,2011,2012,2013,2014],\"y\":{\"__ndarray__\":\"AAAAAAAA+H8AAAAAAAD4fwAAAAAAAPh/AAAAAAAA+H/hehSuR+E3QIXrUbgehTdAehSuR+F6N0CF61G4HoU3QF2PwvUo3DZAXI/C9ShcNkApXI/C9Sg2QD4K16NwPTZA16NwPQrXNkB6FK5H4Xo2QFyPwvUoXDZAZ2ZmZmZmNkBoZmZmZmY2QPcoXI/CdTVAuh6F61E4NUCG61G4HgU0QBauR+F6lDJAAgAAAAAAMUDG9Shcj8IuQNujcD0K1ytA5noUrkfhK0BDCtejcD0rQGtmZmZmZipAODMzMzMzK0CAFK5H4XosQIAUrkfheixAnpmZmZmZLUBN4XoUrkcvQOR6FK5HYTBANjMzMzMzMUA/CtejcL0yQLBH4XoULjRAU7gehetRPkByPQrXozBAQOxRuB6F60FAj8L1KFyPQ0DrUbgehetEQM3MzMzMDEJA16NwPQqXQkBnZmZmZiZDQPYoXI/CdUNAXY/C9SgcQ0DtUbgehStCQPcoXI/C9UFA9ihcj8L1QECQwvUoXA8/QCpcj8L1KD9A16NwPQoXQEA9CtejcD0/QCpcj8L1qD5ArkfhehQuPkCamZmZmZk8QOtRuB6FazpA61G4HoVrOUDsUbgehes4QNejcD0KVzhA\",\"dtype\":\"float64\",\"shape\":[60]}}},\"id\":\"cbddd6d1-6734-4909-a8d5-927646ea0793\",\"type\":\"ColumnDataSource\"},{\"attributes\":{\"callback\":null},\"id\":\"817ace05-1d98-48e5-b6fc-c3ae8d77f5bd\",\"type\":\"DataRange1d\"},{\"attributes\":{\"label\":{\"value\":\"Springs\"},\"renderers\":[{\"id\":\"882562fd-cd42-4aa1-928e-9d3b101509fa\",\"type\":\"GlyphRenderer\"}]},\"id\":\"3b32f929-d414-4a56-bf17-cbd7165534c4\",\"type\":\"LegendItem\"},{\"attributes\":{\"overlay\":{\"id\":\"88e36790-a137-469b-a81b-725f00cf9789\",\"type\":\"BoxAnnotation\"},\"plot\":{\"id\":\"eddd2605-d0e1-45cb-ac9f-37eef99dbe73\",\"subtype\":\"Figure\",\"type\":\"Plot\"}},\"id\":\"e440e214-f6ca-4372-b6b3-6fd18066a5d6\",\"type\":\"BoxZoomTool\"},{\"attributes\":{\"line_alpha\":{\"value\":0.1},\"line_color\":{\"value\":\"#1f77b4\"},\"line_join\":\"round\",\"line_width\":{\"value\":3},\"x\":{\"field\":\"x\"},\"y\":{\"field\":\"y\"}},\"id\":\"7ef3a1d6-4337-4b1a-9478-c4c2abce615d\",\"type\":\"Line\"},{\"attributes\":{\"callback\":null,\"overlay\":{\"id\":\"e916b5d2-aa69-49a1-8763-681c0ed3f779\",\"type\":\"PolyAnnotation\"},\"plot\":{\"id\":\"eddd2605-d0e1-45cb-ac9f-37eef99dbe73\",\"subtype\":\"Figure\",\"type\":\"Plot\"}},\"id\":\"9a3d26b7-c6f1-4c47-a90e-10b7d9a76761\",\"type\":\"LassoSelectTool\"},{\"attributes\":{\"dimension\":1,\"plot\":{\"id\":\"eddd2605-d0e1-45cb-ac9f-37eef99dbe73\",\"subtype\":\"Figure\",\"type\":\"Plot\"},\"ticker\":{\"id\":\"c676a4d2-ebce-4cb8-b429-51b962855bbb\",\"type\":\"BasicTicker\"}},\"id\":\"f402e4ec-b1c0-40f4-b971-a0209fad7cc5\",\"type\":\"Grid\"},{\"attributes\":{\"line_alpha\":{\"value\":0.1},\"line_color\":{\"value\":\"#1f77b4\"},\"line_join\":\"round\",\"line_width\":{\"value\":3},\"x\":{\"field\":\"x\"},\"y\":{\"field\":\"y\"}},\"id\":\"db3f9387-a802-48bc-a7ae-83d254b56499\",\"type\":\"Line\"},{\"attributes\":{\"plot\":{\"id\":\"eddd2605-d0e1-45cb-ac9f-37eef99dbe73\",\"subtype\":\"Figure\",\"type\":\"Plot\"},\"ticker\":{\"id\":\"877fe8b9-0020-4d6b-b398-b861199cb135\",\"type\":\"BasicTicker\"}},\"id\":\"25dbcf70-7fe8-4c29-a4be-f94d7a39416f\",\"type\":\"Grid\"},{\"attributes\":{\"data_source\":{\"id\":\"cbddd6d1-6734-4909-a8d5-927646ea0793\",\"type\":\"ColumnDataSource\"},\"glyph\":{\"id\":\"a4659044-777f-41b5-85fa-d124839a418e\",\"type\":\"Line\"},\"hover_glyph\":null,\"muted_glyph\":{\"id\":\"c57358e2-8533-4f66-b286-faf9850a0533\",\"type\":\"Line\"},\"nonselection_glyph\":{\"id\":\"7ef3a1d6-4337-4b1a-9478-c4c2abce615d\",\"type\":\"Line\"},\"selection_glyph\":null},\"id\":\"1bd88d1c-36e6-40dc-8d9d-97403f31dfeb\",\"type\":\"GlyphRenderer\"},{\"attributes\":{\"plot\":{\"id\":\"eddd2605-d0e1-45cb-ac9f-37eef99dbe73\",\"subtype\":\"Figure\",\"type\":\"Plot\"}},\"id\":\"03c93770-0b72-41f2-8113-c2898b154826\",\"type\":\"PanTool\"},{\"attributes\":{\"axis_label\":\"m^s * s^-1\",\"formatter\":{\"id\":\"7bf9c39f-d68c-4c1b-914a-5ccf41b41433\",\"type\":\"BasicTickFormatter\"},\"plot\":{\"id\":\"eddd2605-d0e1-45cb-ac9f-37eef99dbe73\",\"subtype\":\"Figure\",\"type\":\"Plot\"},\"ticker\":{\"id\":\"c676a4d2-ebce-4cb8-b429-51b962855bbb\",\"type\":\"BasicTicker\"}},\"id\":\"8b286374-2d14-4d6c-9645-58ffe1c71482\",\"type\":\"LinearAxis\"},{\"attributes\":{\"fill_alpha\":{\"value\":0.5},\"fill_color\":{\"value\":\"lightgrey\"},\"level\":\"overlay\",\"line_alpha\":{\"value\":1.0},\"line_color\":{\"value\":\"black\"},\"line_dash\":[4,4],\"line_width\":{\"value\":2},\"plot\":null,\"xs_units\":\"screen\",\"ys_units\":\"screen\"},\"id\":\"e916b5d2-aa69-49a1-8763-681c0ed3f779\",\"type\":\"PolyAnnotation\"},{\"attributes\":{\"line_alpha\":{\"value\":0.2},\"line_color\":{\"value\":\"grey\"},\"line_join\":\"round\",\"line_width\":{\"value\":3},\"x\":{\"field\":\"x\"},\"y\":{\"field\":\"y\"}},\"id\":\"f326485b-d68e-4648-a035-c1827e0c7d40\",\"type\":\"Line\"},{\"attributes\":{\"data_source\":{\"id\":\"b7f9a7d7-fc61-4f2f-99b1-547131898be7\",\"type\":\"ColumnDataSource\"},\"glyph\":{\"id\":\"d5743f19-67fa-440f-9249-c242f8a8b8d1\",\"type\":\"Line\"},\"hover_glyph\":null,\"muted_glyph\":{\"id\":\"f5a3cca7-9be2-4624-907b-9283a5db6155\",\"type\":\"Line\"},\"nonselection_glyph\":{\"id\":\"db3f9387-a802-48bc-a7ae-83d254b56499\",\"type\":\"Line\"},\"selection_glyph\":null},\"id\":\"dbc948ea-abe8-4b02-9f25-7078053305ee\",\"type\":\"GlyphRenderer\"},{\"attributes\":{\"data_source\":{\"id\":\"b36330b2-0238-4698-9f24-72ba3ce64153\",\"type\":\"ColumnDataSource\"},\"glyph\":{\"id\":\"5683e3d3-86c6-4504-aa30-b5c04e2d792c\",\"type\":\"Line\"},\"hover_glyph\":null,\"muted_glyph\":{\"id\":\"235e28d1-8cc3-41ab-b9a5-0bb25acaab23\",\"type\":\"Line\"},\"nonselection_glyph\":{\"id\":\"f9b39294-499f-4df1-9dfd-22e2d065e5ec\",\"type\":\"Line\"},\"selection_glyph\":null},\"id\":\"806a072a-dff3-492e-9df7-9f372bb89af9\",\"type\":\"GlyphRenderer\"},{\"attributes\":{\"plot\":{\"id\":\"eddd2605-d0e1-45cb-ac9f-37eef99dbe73\",\"subtype\":\"Figure\",\"type\":\"Plot\"}},\"id\":\"bd77929c-fccc-4746-868f-a281cab2ac6f\",\"type\":\"ResetTool\"},{\"attributes\":{\"click_policy\":\"mute\",\"items\":[{\"id\":\"eb35b013-e417-4c95-9ea4-8dc8438ac6bb\",\"type\":\"LegendItem\"},{\"id\":\"8c140888-a7ff-4e82-ad8d-5e039ca03857\",\"type\":\"LegendItem\"},{\"id\":\"d5ec44be-7a25-432b-8489-9aa1c65ac1c3\",\"type\":\"LegendItem\"},{\"id\":\"03af6aa2-2353-4602-ac5c-57479a0a87d9\",\"type\":\"LegendItem\"},{\"id\":\"3b32f929-d414-4a56-bf17-cbd7165534c4\",\"type\":\"LegendItem\"}],\"location\":\"top_left\",\"plot\":{\"id\":\"eddd2605-d0e1-45cb-ac9f-37eef99dbe73\",\"subtype\":\"Figure\",\"type\":\"Plot\"}},\"id\":\"c33599d6-39a0-4a60-a982-9d5b74c27aae\",\"type\":\"Legend\"},{\"attributes\":{\"line_alpha\":{\"value\":0.2},\"line_color\":{\"value\":\"grey\"},\"line_join\":\"round\",\"line_width\":{\"value\":3},\"x\":{\"field\":\"x\"},\"y\":{\"field\":\"y\"}},\"id\":\"2a623e5b-16f3-4943-8217-f23014360b56\",\"type\":\"Line\"},{\"attributes\":{\"callback\":null,\"column_names\":[\"y\",\"x\"],\"data\":{\"x\":[1955,1956,1957,1958,1959,1960,1961,1962,1963,1964,1965,1966,1967,1968,1969,1970,1971,1972,1973,1974,1975,1976,1977,1978,1979,1980,1981,1982,1983,1984,1985,1986,1987,1988,1989,1990,1991,1992,1993,1994,1995,1996,1997,1998,1999,2000,2001,2002,2003,2004,2005,2006,2007,2008,2009,2010,2011,2012,2013,2014],\"y\":{\"__ndarray__\":\"AAAAAAAA+H8AAAAAAAD4fwAAAAAAAPh/AAAAAAAA+H8AAAAAAGBeQEjhehSuZ15A1qNwPQq3XUC4HoXrURhfQAAAAAAAgGBAuR6F61EIYUCamZmZmXlhQLoehetR6GFA2KNwPQqXYkBI4XoUrndiQDMzMzMzA2NAexSuR+G6Y0DYo3A9ChdlQKVwPQrXk2VAhutRuB5VZkD2KFyPwqVmQPYoXI/CBWdA61G4HoWrZkAK16NwPQpnQEfhehSu92dAMjMzMzPTaEB6FK5H4apqQChcj8L16GtArkfhehR+bUCuR+F6FF5uQJqZmZmZKXBAmpmZmZlBcEAAAAAAALBwQJDC9Shcl3BA9ihcj8INcUCQwvUoXAdxQDQzMzMz63BAcj0K16OYcEDD9Shcj0pwQAvXo3A9um9A9ihcj8LFbkBmZmZmZsZuQOtRuB6FS29AhetRuB61b0ApXI/C9QhwQIXrUbgeXXBA4XoUrkdxcEAAAAAAAEBwQMP1KFyP4m9A2KNwPQonb0ClcD0K19NtQF2PwvUorG1AcD0K16MAbkDgehSuRzFuQAjXo3A9Gm9Ath6F61HIb0DWo3A9CudvQAAAAAAACHBArkfhehROcEBTuB6F68FvQMP1KFyPEm9A\",\"dtype\":\"float64\",\"shape\":[60]}}},\"id\":\"b7f9a7d7-fc61-4f2f-99b1-547131898be7\",\"type\":\"ColumnDataSource\"},{\"attributes\":{\"line_alpha\":{\"value\":0.2},\"line_color\":{\"value\":\"grey\"},\"line_join\":\"round\",\"line_width\":{\"value\":3},\"x\":{\"field\":\"x\"},\"y\":{\"field\":\"y\"}},\"id\":\"f5a3cca7-9be2-4624-907b-9283a5db6155\",\"type\":\"Line\"}],\"root_ids\":[\"eddd2605-d0e1-45cb-ac9f-37eef99dbe73\"]},\"title\":\"Bokeh Application\",\"version\":\"0.12.5\"}};\n",
       "            var render_items = [{\"docid\":\"c38bbf21-ab29-4a89-81c6-4af9e926f287\",\"elementid\":\"e9ae5fde-c0b0-45cb-a2a1-917d308e2a6a\",\"modelid\":\"eddd2605-d0e1-45cb-ac9f-37eef99dbe73\"}];\n",
       "            \n",
       "            Bokeh.embed.embed_items(docs_json, render_items);\n",
       "          };\n",
       "          if (document.readyState != \"loading\") fn();\n",
       "          else document.addEventListener(\"DOMContentLoaded\", fn);\n",
       "        })();\n",
       "      },\n",
       "      function(Bokeh) {\n",
       "      }\n",
       "    ];\n",
       "  \n",
       "    function run_inline_js() {\n",
       "      \n",
       "      if ((window.Bokeh !== undefined) || (force === true)) {\n",
       "        for (var i = 0; i < inline_js.length; i++) {\n",
       "          inline_js[i](window.Bokeh);\n",
       "        }if (force === true) {\n",
       "          display_loaded();\n",
       "        }} else if (Date.now() < window._bokeh_timeout) {\n",
       "        setTimeout(run_inline_js, 100);\n",
       "      } else if (!window._bokeh_failed_load) {\n",
       "        console.log(\"Bokeh: BokehJS failed to load within specified timeout.\");\n",
       "        window._bokeh_failed_load = true;\n",
       "      } else if (force !== true) {\n",
       "        var cell = $(document.getElementById(\"e9ae5fde-c0b0-45cb-a2a1-917d308e2a6a\")).parents('.cell').data().cell;\n",
       "        cell.output_area.append_execute_result(NB_LOAD_WARNING)\n",
       "      }\n",
       "  \n",
       "    }\n",
       "  \n",
       "    if (window._bokeh_is_loading === 0) {\n",
       "      console.log(\"Bokeh: BokehJS loaded, going straight to plotting\");\n",
       "      run_inline_js();\n",
       "    } else {\n",
       "      load_libs(js_urls, function() {\n",
       "        console.log(\"Bokeh: BokehJS plotting callback run at\", now());\n",
       "        run_inline_js();\n",
       "      });\n",
       "    }\n",
       "  }(this));\n",
       "</script>"
      ]
     },
     "metadata": {},
     "output_type": "display_data"
    }
   ],
   "source": [
    "p = figure(\n",
    "    plot_width=900, \n",
    "    plot_height=150,\n",
    "    title=figTitle,\n",
    "    y_axis_label=\"m^s * s^-1\",\n",
    "    x_axis_label=allDataFrames[keys[0]].index.name,\n",
    "    logo=None,\n",
    "    tools=[\n",
    "        \"box_zoom\",\n",
    "        \"reset\",\n",
    "        \"lasso_select\",\n",
    "        \"pan\"\n",
    "    ]\n",
    ")\n",
    "\n",
    "colorIndex=0\n",
    "for i in range(0,len(allDataFrames)): #iterate datasets\n",
    "    table = allDataFrames[keys[i]] # get current dataframe (indexed)\n",
    "    for col in list(table):\n",
    "        yVals = table[col]\n",
    "        if plotMovingAvg > 0:\n",
    "            yVals = table[col].rolling(window=plotMovingAvg).mean()\n",
    "        if applyStandardization != True:\n",
    "            yVals.apply(_standardize_EAA_flowVal)\n",
    "#            print yVals.head() # diagnostic\n",
    "#            if previewData:\n",
    "        p.line(\n",
    "            table.index.values,\n",
    "            yVals,\n",
    "            legend=col,\n",
    "#            legend=False,\n",
    "            color=palette[colorIndex%(len(palette))],\n",
    "            muted_color=\"grey\", \n",
    "            muted_alpha=0.2,\n",
    "            line_width=3,\n",
    "            line_join=\"round\"\n",
    "        )\n",
    "        colorIndex+=1\n",
    "\n",
    "p.legend.location = \"top_left\"\n",
    "p.legend.click_policy=\"mute\"\n",
    "\n",
    "p.plot_height = 400\n",
    "\n",
    "show(p)"
   ]
  },
  {
   "cell_type": "code",
   "execution_count": 37,
   "metadata": {
    "extensions": {
     "jupyter_dashboards": {
      "version": 1,
      "views": {
       "grid_default": {
        "col": 0,
        "height": 18,
        "hidden": true,
        "row": 0,
        "width": 7
       },
       "report_default": {}
      }
     }
    }
   },
   "outputs": [
    {
     "ename": "NameError",
     "evalue": "name 'years' is not defined",
     "output_type": "error",
     "traceback": [
      "\u001b[0;31m---------------------------------------------------------------------------\u001b[0m",
      "\u001b[0;31mNameError\u001b[0m                                 Traceback (most recent call last)",
      "\u001b[0;32m<ipython-input-37-f8ca2dbde0b0>\u001b[0m in \u001b[0;36m<module>\u001b[0;34m()\u001b[0m\n\u001b[1;32m     14\u001b[0m \u001b[0;34m\u001b[0m\u001b[0m\n\u001b[1;32m     15\u001b[0m \u001b[0;31m# add a line renderer\u001b[0m\u001b[0;34m\u001b[0m\u001b[0;34m\u001b[0m\u001b[0m\n\u001b[0;32m---> 16\u001b[0;31m \u001b[0mp\u001b[0m\u001b[0;34m.\u001b[0m\u001b[0mline\u001b[0m\u001b[0;34m(\u001b[0m\u001b[0myears\u001b[0m\u001b[0;34m,\u001b[0m\u001b[0mvalues\u001b[0m\u001b[0;34m,\u001b[0m \u001b[0mline_width\u001b[0m\u001b[0;34m=\u001b[0m\u001b[0;36m3\u001b[0m\u001b[0;34m,\u001b[0m\u001b[0mmuted_color\u001b[0m\u001b[0;34m=\u001b[0m\u001b[0;34m\"grey\"\u001b[0m\u001b[0;34m,\u001b[0m \u001b[0mmuted_alpha\u001b[0m\u001b[0;34m=\u001b[0m\u001b[0;36m0.2\u001b[0m\u001b[0;34m,\u001b[0m \u001b[0mlegend\u001b[0m\u001b[0;34m=\u001b[0m\u001b[0;34m\"Recharge\"\u001b[0m\u001b[0;34m,\u001b[0m\u001b[0mline_join\u001b[0m\u001b[0;34m=\u001b[0m\u001b[0;34m\"round\"\u001b[0m\u001b[0;34m)\u001b[0m\u001b[0;34m\u001b[0m\u001b[0m\n\u001b[0m\u001b[1;32m     17\u001b[0m \u001b[0mp1\u001b[0m\u001b[0;34m.\u001b[0m\u001b[0mline\u001b[0m\u001b[0;34m(\u001b[0m\u001b[0myears\u001b[0m\u001b[0;34m,\u001b[0m\u001b[0mvalues2\u001b[0m\u001b[0;34m,\u001b[0m \u001b[0mline_width\u001b[0m\u001b[0;34m=\u001b[0m\u001b[0;36m3\u001b[0m\u001b[0;34m,\u001b[0m \u001b[0mline_color\u001b[0m\u001b[0;34m=\u001b[0m\u001b[0;34m'red'\u001b[0m\u001b[0;34m,\u001b[0m\u001b[0mmuted_color\u001b[0m\u001b[0;34m=\u001b[0m\u001b[0;34m\"grey\"\u001b[0m\u001b[0;34m,\u001b[0m \u001b[0mmuted_alpha\u001b[0m\u001b[0;34m=\u001b[0m\u001b[0;36m0.2\u001b[0m\u001b[0;34m,\u001b[0m \u001b[0mlegend\u001b[0m\u001b[0;34m=\u001b[0m\u001b[0;34m\"Pumpage\"\u001b[0m\u001b[0;34m)\u001b[0m\u001b[0;34m\u001b[0m\u001b[0m\n\u001b[1;32m     18\u001b[0m \u001b[0mp2\u001b[0m\u001b[0;34m.\u001b[0m\u001b[0mline\u001b[0m\u001b[0;34m(\u001b[0m\u001b[0myears\u001b[0m\u001b[0;34m,\u001b[0m\u001b[0mvalues3\u001b[0m\u001b[0;34m,\u001b[0m \u001b[0mline_width\u001b[0m\u001b[0;34m=\u001b[0m\u001b[0;36m3\u001b[0m\u001b[0;34m,\u001b[0m \u001b[0mline_color\u001b[0m\u001b[0;34m=\u001b[0m\u001b[0;34m'green'\u001b[0m\u001b[0;34m,\u001b[0m\u001b[0mmuted_color\u001b[0m\u001b[0;34m=\u001b[0m\u001b[0;34m\"grey\"\u001b[0m\u001b[0;34m,\u001b[0m \u001b[0mmuted_alpha\u001b[0m\u001b[0;34m=\u001b[0m\u001b[0;36m0.2\u001b[0m\u001b[0;34m,\u001b[0m \u001b[0mlegend\u001b[0m\u001b[0;34m=\u001b[0m\u001b[0;34m\"Springflow\"\u001b[0m\u001b[0;34m)\u001b[0m\u001b[0;34m\u001b[0m\u001b[0m\n",
      "\u001b[0;31mNameError\u001b[0m: name 'years' is not defined"
     ]
    }
   ],
   "source": [
    "hover = HoverTool(\n",
    "    tooltips=[\n",
    "        (\"index\", \"$index\")\n",
    "    ],\n",
    "    \n",
    "    mode='vline'\n",
    ")\n",
    "\n",
    "# x_axis_type=\"datetime\"\n",
    "p = figure(plot_width=900, plot_height=150,title=\"EAA Data\",tools=[hover,\"box_zoom\",\"reset\",\"lasso_select\",\"pan\"])\n",
    "p1 = figure(plot_width=900, plot_height=150,title=\"EAA Data\",x_range=p.x_range,tools=[\"box_zoom\",\"reset\",\"lasso_select\",\"pan\"])\n",
    "p2 = figure(plot_width=900, plot_height=150,title=\"EAA Data\",x_range=p.x_range,tools=[\"box_zoom\",\"reset\",\"lasso_select\"])\n",
    "\n",
    "\n",
    "# add a line renderer\n",
    "p.line(years,values, line_width=3,muted_color=\"grey\", muted_alpha=0.2, legend=\"Recharge\",line_join=\"round\")\n",
    "p1.line(years,values2, line_width=3, line_color='red',muted_color=\"grey\", muted_alpha=0.2, legend=\"Pumpage\")\n",
    "p2.line(years,values3, line_width=3, line_color='green',muted_color=\"grey\", muted_alpha=0.2, legend=\"Springflow\")\n",
    "\n",
    "p.legend.location = \"top_left\"\n",
    "p.legend.click_policy=\"mute\"\n",
    "\n",
    "gp = gridplot([[p],[p1],[p2]])\n",
    "\n",
    "show(gp)"
   ]
  },
  {
   "cell_type": "code",
   "execution_count": null,
   "metadata": {
    "extensions": {
     "jupyter_dashboards": {
      "version": 1,
      "views": {
       "grid_default": {
        "col": 0,
        "height": 22,
        "hidden": false,
        "row": 15,
        "width": 12
       },
       "report_default": {}
      }
     }
    },
    "scrolled": false
   },
   "outputs": [],
   "source": [
    "%%HTML\n",
    "<iframe width=\"100%\" height=\"640px\" src=\"https://www.arcgis.com/apps/ImpactSummary/index.html?appid=cc7b5b338bff4f068d20acab013d053e\" frameborder=\"0\" scrolling=\"no\"></iframe>"
   ]
  },
  {
   "cell_type": "code",
   "execution_count": 8,
   "metadata": {
    "extensions": {
     "jupyter_dashboards": {
      "version": 1,
      "views": {
       "grid_default": {
        "hidden": true
       },
       "report_default": {}
      }
     }
    }
   },
   "outputs": [
    {
     "name": "stderr",
     "output_type": "stream",
     "text": [
      "Traceback (most recent call last):\n",
      "  File \"/Users/James/anaconda/lib/python2.7/site-packages/geoplotlib/__init__.py\", line 32, in _runapp\n",
      "    app.start()\n",
      "  File \"/Users/James/anaconda/lib/python2.7/site-packages/geoplotlib/core.py\", line 365, in start\n",
      "    force_zoom=self.geoplotlib_config.requested_zoom)\n",
      "  File \"/Users/James/anaconda/lib/python2.7/site-packages/geoplotlib/core.py\", line 672, in fit\n",
      "    left, top = self.lonlat_to_screen([bbox.west], [bbox.north])\n",
      "  File \"/Users/James/anaconda/lib/python2.7/site-packages/geoplotlib/core.py\", line 750, in lonlat_to_screen\n",
      "    lat_rad = np.radians(lat)\n",
      "TypeError: ufunc 'radians' not supported for the input types, and the inputs could not be safely coerced to any supported types according to the casting rule ''safe''\n"
     ]
    }
   ],
   "source": [
    "import geoplotlib\n",
    "thedata = geoplotlib.utils.read_csv('geoplotlib_test_data.csv')\n",
    "geoplotlib.dot(thedata)\n",
    "geoplotlib.show()"
   ]
  },
  {
   "cell_type": "code",
   "execution_count": null,
   "metadata": {
    "collapsed": true,
    "extensions": {
     "jupyter_dashboards": {
      "version": 1,
      "views": {
       "grid_default": {
        "hidden": true
       },
       "report_default": {}
      }
     }
    }
   },
   "outputs": [],
   "source": [
    "#### TRASH ####\n",
    "years = []\n",
    "values = []\n",
    "values2 = []\n",
    "values3 = []\n",
    "\n",
    "#for i in xrange(0,len(df)):\n",
    "for r in xrange(0,len(df)):\n",
    "    #for c in df.loc[r]:\n",
    "    years.append(int(df.loc[r][0]))\n",
    "    values.append(df.loc[r][1])\n",
    "    values2.append(df.loc[r][2])\n",
    "    values3.append(df.loc[r][3])\n",
    "    \n",
    "#for i in xrange(0,len(df)):\n",
    "#    values2.append(i ** 2)\n",
    "        \n",
    "#valuesReversed = valuesReversed.reverse()\n",
    "#print years\n",
    "#print years\n",
    "#print(df.iloc[3])\n",
    "\n",
    "\n",
    "## OLD, don't run\n",
    "for ds in datasets:\n",
    "    allDataFrames[\"{}\".format(ds[0])]=pd.read_csv(ds[0], sep=delimiter,header=(ds[1]-1), index_col=(ds[2]-1))\n",
    "\n",
    "if previewData:\n",
    "    for ds in datasets:\n",
    "        print allDataFrames[ds[0]].head()"
   ]
  },
  {
   "cell_type": "markdown",
   "metadata": {
    "extensions": {
     "jupyter_dashboards": {
      "version": 1,
      "views": {
       "grid_default": {
        "hidden": true
       },
       "report_default": {}
      }
     }
    }
   },
   "source": [
    "##### sources\n",
    "* [color pallete cycling in bokeh](https://stackoverflow.com/questions/39839409/when-plotting-with-bokeh-how-do-you-automatically-cycle-through-a-color-pallett)\n",
    "* [ink to ArcMap online viz](https://www.arcgis.com/apps/ImpactSummary/index.html?appid=cc7b5b338bff4f068d20acab013d053e&edit=true)\n",
    "\n",
    "##### notes\n",
    "* could add aggregation feature to allow the sum of individual columns values per year"
   ]
  },
  {
   "cell_type": "code",
   "execution_count": null,
   "metadata": {
    "collapsed": true
   },
   "outputs": [],
   "source": []
  }
 ],
 "metadata": {
  "extensions": {
   "jupyter_dashboards": {
    "activeView": "grid_default",
    "version": 1,
    "views": {
     "grid_default": {
      "cellMargin": 10,
      "defaultCellHeight": 20,
      "maxColumns": 12,
      "name": "grid",
      "type": "grid"
     },
     "report_default": {
      "name": "report",
      "type": "report"
     }
    }
   }
  },
  "kernelspec": {
   "display_name": "Python 2",
   "language": "python",
   "name": "python2"
  },
  "language_info": {
   "codemirror_mode": {
    "name": "ipython",
    "version": 2
   },
   "file_extension": ".py",
   "mimetype": "text/x-python",
   "name": "python",
   "nbconvert_exporter": "python",
   "pygments_lexer": "ipython2",
   "version": "2.7.13"
  }
 },
 "nbformat": 4,
 "nbformat_minor": 2
}
